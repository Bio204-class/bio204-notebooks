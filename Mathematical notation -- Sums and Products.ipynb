{
 "cells": [
  {
   "cell_type": "markdown",
   "metadata": {},
   "source": [
    "- Author: Paul Magwene \n",
    "- Title: Mathematical notation: sums and products\n",
    "- Date: 20 January 2016"
   ]
  },
  {
   "cell_type": "markdown",
   "metadata": {},
   "source": [
    "# Why mathematical notation?\n",
    "\n",
    "When studying quantitative concepts like statistics, mathematics, or computer science, it's typical to use short hand notation to represent various operations.  This is done because some concepts are used so frequently that it would be tedious to write out a full explanation each time they're used.  \n",
    "\n",
    "Some of this mathematical notation can be a little intimidating at first. Don't let it scare you off. With a little practice it's easy to break the notation down into easy to understand bits."
   ]
  },
  {
   "cell_type": "markdown",
   "metadata": {},
   "source": [
    "# Sum notation\n",
    "\n",
    "Summing (adding things up) is something you do frequently in all sorts of quantitative fields. \n",
    "\n",
    "Frequently we're going to be working with sequences of numbers (mathematicians would usually call these vectors). In Python we might represent such a sequence as a `list` (or an `array` which we'll meet in a later class). In mathematics we usually give the sequence a name like $\\mathbf{x}$; when programming we might use a variable assignment like `x = [3,1,4,...]`.\n",
    "\n",
    "In mathematics we represent the operation of summing the elements of a sequence with a capital Greek letter sigma ($\\Sigma$). Here's an example:\n",
    "$$\n",
    "\\sum_{i=1}^{10} \\mathbf{x}_i\n",
    "$$\n",
    "\n",
    "Notice that there are two numbers -- one above and one below the sigma.  These are the upper and lower indices of the elements we want from $\\mathbf{x}$. Note that mathematicians index sequences from one, unlike computer scientists who usually index from zero.\n",
    "\n",
    "In words, the above notation is equivalent to the written statement: \"From the sequence we call $\\mathbf{x}$, take the first 10 elements, and add them up.\"\n",
    "\n",
    "An equivalent statement in Python  would be:\n",
    "```python\n",
    "sum(x[0:10])  # sum the first ten elements of x \n",
    "```\n",
    "Remember that when slicing Python sequences, the second part of the slice is non-inclusive (i.e. we take all the elements up to but not including the element indexed by 10).\n",
    "\n",
    "Often it's convenient to further abstract our notation.  Let's assume our sequence $\\mathbf{x}$ has a length we'll call $n$.  We don't necessarily know the length of $\\mathbf{x}$ ahead of time, so using the label $n$ to refer to its length let's us abstract away this detail. If we want to represent the operation of summing up *all* the elements of $\\mathbf{x}$ we could write:\n",
    "$$\n",
    "\\sum_{i=1}^n \\mathbf{x}_i\n",
    "$$\n",
    "\n",
    "The equivalent Python statement would be:\n",
    "```python\n",
    "sum(x)  # sum all the elements of x\n",
    "```\n",
    "\n",
    "Notice that when using sum notation, the lower index doesn't have to start at 1. For example, to represent the operation of summing up the last 10 elements of $\\mathbf{x}$ we could write:\n",
    "$$\n",
    "\\sum_{i = n-10}^n \\mathbf{x}_i\n",
    "$$\n",
    "The equivalent Python statement is:\n",
    "```python\n",
    "sum(x[-10:])  # sum the last 10 elements of x\n",
    "```\n",
    "\n"
   ]
  },
  {
   "cell_type": "markdown",
   "metadata": {},
   "source": [
    "## Summing with for loops\n",
    "\n",
    "Python has a convenient `sum` function that makes it easy to quickly sum the elements of a sequence.  But what if we didn't have this function, or what if we wanted to sum not the elements in the list, but rather some operation we applied to those elements?  This problem is easy to solve with a for loop (Note: there are more efficient ways to do such operations, but we're aiming for conceptual simplicity).  Let's illustrate this with an example:"
   ]
  },
  {
   "cell_type": "code",
   "execution_count": 4,
   "metadata": {
    "collapsed": false
   },
   "outputs": [
    {
     "name": "stdout",
     "output_type": "stream",
     "text": [
      "The sum of x is: 30\n"
     ]
    }
   ],
   "source": [
    "x = [2,4,6,8,10]\n",
    "\n",
    "s = 0  # initialiize  the object that will hold our sum to zero\n",
    "for i in x:\n",
    "    s = s + i\n",
    "    \n",
    "print(\"The sum of x is:\", s)"
   ]
  },
  {
   "cell_type": "markdown",
   "metadata": {},
   "source": [
    "Instead of writing `s = s + i` we could have written `s += i`  (read this as \"`s` is whatever it was before plus the value of `i`\"). So we could rewrite that for loop as:"
   ]
  },
  {
   "cell_type": "code",
   "execution_count": 5,
   "metadata": {
    "collapsed": false
   },
   "outputs": [
    {
     "name": "stdout",
     "output_type": "stream",
     "text": [
      "The sum of x is: 30\n"
     ]
    }
   ],
   "source": [
    "x = [2,4,6,8,10]\n",
    "\n",
    "s = 0  \n",
    "for i in x:\n",
    "    s += i\n",
    "    \n",
    "print(\"The sum of x is:\", s)"
   ]
  },
  {
   "cell_type": "markdown",
   "metadata": {},
   "source": [
    "Now what if we wanted to calculate the sum of the reciprocals of each element of `x`?  A simple Python solution would be to write:"
   ]
  },
  {
   "cell_type": "code",
   "execution_count": 6,
   "metadata": {
    "collapsed": false
   },
   "outputs": [
    {
     "name": "stdout",
     "output_type": "stream",
     "text": [
      "The sum of x is: 1.1416666666666666\n"
     ]
    }
   ],
   "source": [
    "x = [2,4,6,8,10]\n",
    "s = 0\n",
    "for i in x:\n",
    "    s += (1/i)\n",
    "    \n",
    "print(\"The sum of the reciprocals of x is:\", s)"
   ]
  },
  {
   "cell_type": "markdown",
   "metadata": {},
   "source": [
    "To bring things full circle, the equivalent mathematical notation to represent the operation of summing the reciprocals of the elements of $\\mathbf{x}$ would be:\n",
    "$$\n",
    "\\sum_{i=1}^n \\frac{1}{\\mathbf{x}_i}\n",
    "$$"
   ]
  },
  {
   "cell_type": "markdown",
   "metadata": {},
   "source": [
    "The code above is somewhat fragile in that it's not easily re-usable. What if we wanted to sum the reciprocals of a list called `y` or `z` instead of `x`?  We'd have to go through our code example and change each instance of `x`.  That's boring and error prone. Instead let's write a Python function to abstract away the steps:"
   ]
  },
  {
   "cell_type": "code",
   "execution_count": 11,
   "metadata": {
    "collapsed": true
   },
   "outputs": [],
   "source": [
    "def sum_of_reciprocals(x):\n",
    "    s = 0\n",
    "    for i in x:\n",
    "        s += (1.0/i)\n",
    "    return s"
   ]
  },
  {
   "cell_type": "code",
   "execution_count": 12,
   "metadata": {
    "collapsed": false
   },
   "outputs": [
    {
     "name": "stdout",
     "output_type": "stream",
     "text": [
      "The sum of the reciprocals of x is: 1.1416666666666666\n",
      "The sum of the reciprocals of y is: 1.7873015873015872\n",
      "The sum of the reciprocals of z is: 0.0\n"
     ]
    }
   ],
   "source": [
    "# test our function with different inputs\n",
    "x = [2,4,6,8,10]\n",
    "y = [1,3,5,7,9]\n",
    "z = [-1,1,-1,1]\n",
    "\n",
    "print(\"The sum of the reciprocals of x is:\", sum_of_reciprocals(x))\n",
    "print(\"The sum of the reciprocals of y is:\", sum_of_reciprocals(y))\n",
    "print(\"The sum of the reciprocals of z is:\", sum_of_reciprocals(z))"
   ]
  },
  {
   "cell_type": "markdown",
   "metadata": {},
   "source": [
    "A even more compact way of writing our sum of reciprocals operation, that still used the built in `sum` function would be to use a list comprehension as shown below:"
   ]
  },
  {
   "cell_type": "code",
   "execution_count": 14,
   "metadata": {
    "collapsed": false
   },
   "outputs": [
    {
     "name": "stdout",
     "output_type": "stream",
     "text": [
      "The sum of the reciprocals of x is:  1.1416666666666666\n"
     ]
    }
   ],
   "source": [
    "sum_recip_x = sum([(1.0/i) for i in x])\n",
    "print(\"The sum of the reciprocals of x is: \", sum_recip_x)"
   ]
  },
  {
   "cell_type": "markdown",
   "metadata": {},
   "source": [
    "# Product notation\n",
    "\n",
    "Now that you (hopefully) understand sum notation, it should be  easy to understand product notation. We use product notation to represent the products of the elements of a sequence (i.e. the total we get when we multiply the elements). As we'll see later in the course, product notation arises frequently in discussions of probability.\n",
    "\n",
    "The mathematical shorthand for taking the product of a sequence of numbers is the capital Greek Pi ($\\Pi$).  In parallel to our first example above, the product of the first ten elements of a sequence $\\mathbf{x}$ could be written this way:\n",
    "$$\n",
    "\\prod_{i=1}^{10} \\mathbf{x}\n",
    "$$\n",
    "\n",
    "Under than the use of $\\Pi$ rather than $\\Sigma$, this identical  to the sum notation above, and as before we the notation includes information about the upper and lower element indices over which we want to apply the operation.\n",
    "\n",
    "In as similar manner to what we saw before, we can represent the operation of summing an arbitrary sequence $\\mathbf{x}$ of length $n$ as follows:\n",
    "$$\n",
    "\\prod_{i=1}^{n} \\mathbf{x}\n",
    "$$"
   ]
  },
  {
   "cell_type": "markdown",
   "metadata": {},
   "source": [
    "### Products with for loops\n",
    "\n",
    "Unlike `sum`, there is no built-in `product` function in Python (we will see an efficient implementation of the product operation when we get to the numerical Python libraries). However, as we saw above we can use for loops to write our own product function."
   ]
  },
  {
   "cell_type": "code",
   "execution_count": 17,
   "metadata": {
    "collapsed": true
   },
   "outputs": [],
   "source": [
    "def product(x):\n",
    "    p = 1\n",
    "    for i in x:\n",
    "        p *= i # same as p = p * i\n",
    "    return p"
   ]
  },
  {
   "cell_type": "code",
   "execution_count": 19,
   "metadata": {
    "collapsed": false
   },
   "outputs": [
    {
     "data": {
      "text/plain": [
       "3840"
      ]
     },
     "execution_count": 19,
     "metadata": {},
     "output_type": "execute_result"
    }
   ],
   "source": [
    "x = [2,4,6,8,10]\n",
    "product(x)"
   ]
  },
  {
   "cell_type": "code",
   "execution_count": 20,
   "metadata": {
    "collapsed": false
   },
   "outputs": [
    {
     "data": {
      "text/plain": [
       "0.00026041666666666666"
      ]
     },
     "execution_count": 20,
     "metadata": {},
     "output_type": "execute_result"
    }
   ],
   "source": [
    "product([(1.0/i) for i in x]) # use list comprehension to get reciprocals of x"
   ]
  },
  {
   "cell_type": "code",
   "execution_count": null,
   "metadata": {
    "collapsed": true
   },
   "outputs": [],
   "source": []
  }
 ],
 "metadata": {
  "kernelspec": {
   "display_name": "Python 3",
   "language": "python",
   "name": "python3"
  },
  "language_info": {
   "codemirror_mode": {
    "name": "ipython",
    "version": 3
   },
   "file_extension": ".py",
   "mimetype": "text/x-python",
   "name": "python",
   "nbconvert_exporter": "python",
   "pygments_lexer": "ipython3",
   "version": "3.5.1"
  }
 },
 "nbformat": 4,
 "nbformat_minor": 0
}
