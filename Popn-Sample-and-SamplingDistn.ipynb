{
 "cells": [
  {
   "cell_type": "code",
   "execution_count": 1,
   "metadata": {
    "collapsed": false
   },
   "outputs": [],
   "source": [
    "%matplotlib inline\n",
    "import numpy as np\n",
    "import scipy.stats as stats\n",
    "import matplotlib.pyplot as plt\n",
    "\n",
    "np.random.seed(20160302)"
   ]
  },
  {
   "cell_type": "markdown",
   "metadata": {},
   "source": [
    "## Population distribution"
   ]
  },
  {
   "cell_type": "markdown",
   "metadata": {},
   "source": [
    "Here is a population of size 100,000."
   ]
  },
  {
   "cell_type": "code",
   "execution_count": 2,
   "metadata": {
    "collapsed": false
   },
   "outputs": [],
   "source": [
    "mu, sigma = 64, 8\n",
    "popn = np.random.normal(loc=mu,scale=sigma, size=100000)\n",
    "truemu, truesigma = np.mean(popn), np.std(popn)"
   ]
  },
  {
   "cell_type": "code",
   "execution_count": 3,
   "metadata": {
    "collapsed": false
   },
   "outputs": [
    {
     "name": "stdout",
     "output_type": "stream",
     "text": [
      "For the population of interest, the true mean is 64.03841411536553 \n",
      "and the true standard deviation is 8.008087008137426 \n"
     ]
    }
   ],
   "source": [
    "s = \\\n",
    "\"\"\"For the population of interest, the true mean is {} \n",
    "and the true standard deviation is {} \"\"\"\n",
    "print(s.format(truemu,truesigma))"
   ]
  },
  {
   "cell_type": "markdown",
   "metadata": {},
   "source": [
    "This is what the population distribution looks like when represented as a **frequency histogram**."
   ]
  },
  {
   "cell_type": "code",
   "execution_count": 21,
   "metadata": {
    "collapsed": false
   },
   "outputs": [
    {
     "data": {
      "image/png": "[encoded data removed]",
      "text/plain": [
       "<matplotlib.figure.Figure at 0x10847b080>"
      ]
     },
     "metadata": {},
     "output_type": "display_data"
    }
   ],
   "source": [
    "plt.hist(popn, bins=50, color='gray', alpha=0.75, histtype='stepfilled')\n",
    "plt.xlabel(\"X\")\n",
    "plt.ylabel(\"Frequency\")\n",
    "pass"
   ]
  },
  {
   "cell_type": "markdown",
   "metadata": {},
   "source": [
    "## Sample distribution"
   ]
  },
  {
   "cell_type": "markdown",
   "metadata": {},
   "source": [
    "Here is sample of size 60 drawn without replacement from this population:"
   ]
  },
  {
   "cell_type": "code",
   "execution_count": 5,
   "metadata": {
    "collapsed": true
   },
   "outputs": [],
   "source": [
    "sample = np.random.choice(popn, size=60, replace=False)"
   ]
  },
  {
   "cell_type": "code",
   "execution_count": 6,
   "metadata": {
    "collapsed": false
   },
   "outputs": [
    {
     "name": "stdout",
     "output_type": "stream",
     "text": [
      "For the population of interest, the point estimates of the \n",
      "mean and standard deviation are 63.03932509191508 and 7.240176981809635, respectively\n"
     ]
    }
   ],
   "source": [
    "s = \\\n",
    "\"\"\"For the population of interest, the point estimates of the \n",
    "mean and standard deviation are {} and {}, respectively\"\"\"\n",
    "\n",
    "print(s.format(np.mean(sample),np.std(sample,ddof=1)))"
   ]
  },
  {
   "cell_type": "markdown",
   "metadata": {},
   "source": [
    "Here is what the frequency histogram of the sample looks like."
   ]
  },
  {
   "cell_type": "code",
   "execution_count": 31,
   "metadata": {
    "collapsed": false
   },
   "outputs": [
    {
     "data": {
      "image/png": "[encoded data removed]",
      "text/plain": [
       "<matplotlib.figure.Figure at 0x1098fc320>"
      ]
     },
     "metadata": {},
     "output_type": "display_data"
    }
   ],
   "source": [
    "plt.hist(sample, color='steelblue', alpha=0.75, \n",
    "         histtype='stepfilled',label='sample')\n",
    "plt.xlabel(\"X\")\n",
    "plt.ylabel(\"Frequency\")\n",
    "pass"
   ]
  },
  {
   "cell_type": "markdown",
   "metadata": {},
   "source": [
    "Here's **density histograms** of the population (gray) and the sample (blue) drawn together."
   ]
  },
  {
   "cell_type": "code",
   "execution_count": 22,
   "metadata": {
    "collapsed": false
   },
   "outputs": [
    {
     "data": {
      "image/png": "[encoded data removed]",
      "text/plain": [
       "<matplotlib.figure.Figure at 0x108fa79b0>"
      ]
     },
     "metadata": {},
     "output_type": "display_data"
    }
   ],
   "source": [
    "plt.hist(popn, normed=True, bins=50, label='population',\n",
    "         color='gray', alpha=0.75, histtype='stepfilled')\n",
    "plt.hist(sample, normed=True, label='sample',\n",
    "         color='steelblue', alpha=0.75, histtype='stepfilled')\n",
    "plt.xlabel(\"X\")\n",
    "plt.ylabel(\"Density\")\n",
    "plt.legend(loc=\"best\")\n",
    "pass"
   ]
  },
  {
   "cell_type": "markdown",
   "metadata": {},
   "source": [
    "## Sampling distribution of the mean"
   ]
  },
  {
   "cell_type": "markdown",
   "metadata": {},
   "source": [
    "To estimate the sampling distribution of the mean, we draw 1000 samples of size 60 and calculate the mean for each such sample."
   ]
  },
  {
   "cell_type": "code",
   "execution_count": 9,
   "metadata": {
    "collapsed": false
   },
   "outputs": [],
   "source": [
    "smeans = []\n",
    "for i in range(1000):\n",
    "    rsample = np.random.choice(popn, size=60, replace=False)\n",
    "    smeans.append(np.mean(rsample))"
   ]
  },
  {
   "cell_type": "markdown",
   "metadata": {},
   "source": [
    "Here is the frequency histogram of the sampling distribution of the mean."
   ]
  },
  {
   "cell_type": "code",
   "execution_count": 36,
   "metadata": {
    "collapsed": false
   },
   "outputs": [
    {
     "data": {
      "image/png": "[encoded data removed]",
      "text/plain": [
       "<matplotlib.figure.Figure at 0x1082486d8>"
      ]
     },
     "metadata": {},
     "output_type": "display_data"
    }
   ],
   "source": [
    "plt.hist(smeans, normed=True, bins=30, label='simulated\\ndistn of\\n means',\n",
    "         color='firebrick', alpha=0.75, histtype='stepfilled')\n",
    "plt.xlabel(\"mean(X)\")\n",
    "plt.ylabel(\"Frequency\")\n",
    "pass"
   ]
  },
  {
   "cell_type": "markdown",
   "metadata": {},
   "source": [
    "Here are the density histograms of the population (grey), our first sample (blue), and the sampling distribution of the mean(red), all drawn in the same plot. \n",
    "\n",
    "**IMPORTANT NOTE:** to facilitate visual comparison of the distributions I've truncated the y-axis. Comment out the `ylim` line below to see the complete density histogram of the sampling distribution of sample means."
   ]
  },
  {
   "cell_type": "code",
   "execution_count": 37,
   "metadata": {
    "collapsed": false
   },
   "outputs": [
    {
     "data": {
      "image/png": "[encoded data removed]",
      "text/plain": [
       "<matplotlib.figure.Figure at 0x1082d8e48>"
      ]
     },
     "metadata": {},
     "output_type": "display_data"
    }
   ],
   "source": [
    "plt.hist(popn, normed=True, bins=50, label='population',\n",
    "         color='gray', alpha=0.75, histtype='stepfilled')\n",
    "plt.hist(sample, normed=True, label='sample',\n",
    "         color='steelblue', alpha=0.75, histtype='stepfilled')\n",
    "plt.hist(smeans, normed=True, bins=50, label='simulated\\ndistn of\\n means',\n",
    "         color='firebrick', alpha=0.75, histtype='stepfilled')\n",
    "plt.xlabel(\"X\")\n",
    "plt.ylabel(\"Density\")\n",
    "plt.legend(loc=\"best\")\n",
    "plt.ylim(0,0.06)  # comment out this line to remove truncation\n",
    "pass"
   ]
  },
  {
   "cell_type": "code",
   "execution_count": null,
   "metadata": {
    "collapsed": true
   },
   "outputs": [],
   "source": []
  }
 ],
 "metadata": {
  "kernelspec": {
   "display_name": "Python 3",
   "language": "python",
   "name": "python3"
  },
  "language_info": {
   "codemirror_mode": {
    "name": "ipython",
    "version": 3
   },
   "file_extension": ".py",
   "mimetype": "text/x-python",
   "name": "python",
   "nbconvert_exporter": "python",
   "pygments_lexer": "ipython3",
   "version": "3.5.1"
  }
 },
 "nbformat": 4,
 "nbformat_minor": 0
}
