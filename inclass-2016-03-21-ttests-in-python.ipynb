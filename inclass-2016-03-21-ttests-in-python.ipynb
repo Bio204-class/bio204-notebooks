{
 "cells": [
  {
   "cell_type": "markdown",
   "metadata": {},
   "source": [
    "# T-tests in Python\n",
    "**Author**: Paul M. Magwene"
   ]
  },
  {
   "cell_type": "code",
   "execution_count": 1,
   "metadata": {
    "collapsed": true
   },
   "outputs": [],
   "source": [
    "%matplotlib inline\n",
    "import numpy as np\n",
    "import scipy.stats as stats\n",
    "import matplotlib.pyplot as plt\n",
    "import pandas as pd"
   ]
  },
  {
   "cell_type": "markdown",
   "metadata": {},
   "source": [
    "## t-tests in scipy.stats\n",
    "\n",
    "The `scipy.stats` module has three functions for carrying out t-tests:\n",
    "\n",
    "1. `ttest_1samp(a, popmean)` -- carries out a one sample t-test, comparing the mean in `a` to the given popmean.\n",
    "\n",
    "2. `ttest_ind(a,b)` -- carries out a t-test for the mean of two independent samples `a` and `b`\n",
    "\n",
    "3. `ttest_rel(a,b)` -- carries out a paired t-test for related samples `a` and `b`\n",
    "\n"
   ]
  },
  {
   "cell_type": "markdown",
   "metadata": {},
   "source": [
    "We will illustrate the use of the functions using sample data sets from the OpenIntro Statistics textbook."
   ]
  },
  {
   "cell_type": "markdown",
   "metadata": {},
   "source": [
    "## One sample t-tests\n",
    "\n",
    "We'll start with a one-sample t-test. To illustrate this we'll use a data set involving bushtail possums that we used previously (see [previous notebook](http://nbviewer.jupyter.org/github/Bio204-class/bio204-notebooks/blob/master/inclass-2016-02-29-hypothesis-testing.ipynb)).\n",
    "\n",
    "###  Possum tail length\n",
    "\n",
    "Previous studies of brushtail possums in Australia have established that the mean tail length of adult possums is 37.86cm. I am studying an isolated population of possums in the state of Victoria, and I am interested in whether mean tail length of Victorian possums is shorter than that of possums in the rest of Australia.\n",
    "\n",
    "#### Null and Alternative Hypotheses\n",
    "\n",
    "* $H_0$: The average tail length of Victoria possums is the same as those in the rest of Australia (μ = 37.86)\n",
    "* $H_A$: The average tail length of Victoria possums is less than the rest of Australia (μ < 37.86)\n",
    "\n",
    "Since I have an a priori reason to believe the difference in tail length is shorter, this is a \"one-tailed\" hypothesis test."
   ]
  },
  {
   "cell_type": "markdown",
   "metadata": {},
   "source": [
    "#### Read the possum data"
   ]
  },
  {
   "cell_type": "code",
   "execution_count": 4,
   "metadata": {
    "collapsed": false
   },
   "outputs": [],
   "source": [
    "possums = pd.read_table(\"http://roybatty.org/possum.txt\")\n",
    "# rename the pop column because thats a pandas method name\n",
    "possums.rename(columns={'pop':'popn'}, inplace=True)\n",
    "\n",
    "# get the victoria possums\n",
    "vic = possums[possums.popn == 'Vic']"
   ]
  },
  {
   "cell_type": "markdown",
   "metadata": {},
   "source": [
    "#### Carry out the one-sample t-test"
   ]
  },
  {
   "cell_type": "code",
   "execution_count": 12,
   "metadata": {
    "collapsed": false
   },
   "outputs": [
    {
     "data": {
      "text/plain": [
       "Ttest_1sampResult(statistic=-7.6007911986606871, pvalue=1.3217904910585221e-09)"
      ]
     },
     "execution_count": 12,
     "metadata": {},
     "output_type": "execute_result"
    }
   ],
   "source": [
    "stats.ttest_1samp(vic.tailL, 37.86)"
   ]
  },
  {
   "cell_type": "markdown",
   "metadata": {},
   "source": [
    "Here's the same thing as above, but showing how you can work with the named fields of the tuple return from `ttest_1samp`"
   ]
  },
  {
   "cell_type": "code",
   "execution_count": 15,
   "metadata": {
    "collapsed": false
   },
   "outputs": [
    {
     "name": "stdout",
     "output_type": "stream",
     "text": [
      "The z-score (t-score) for our test is: -7.60\n",
      "The p-value for our test is: 0.0000000013\n"
     ]
    }
   ],
   "source": [
    "vicT = stats.ttest_1samp(vic.tailL, 37.86)\n",
    "print(\"The z-score (t-score) for our test is: {:0.2f}\".format(vicT.statistic))\n",
    "print(\"The p-value for our test is: {:0.10f}\".format(vicT.pvalue))"
   ]
  },
  {
   "cell_type": "markdown",
   "metadata": {},
   "source": [
    "If you compare the  p-value to the previous notebook where we carried out a one-sample hypothesis test of the mean, you'll see the value we calculate here is slightly larger, reflecting the difference between the t- and normal distribution.  Using either distribution we have strong evidence for rejecting the null-hypothesis."
   ]
  },
  {
   "cell_type": "markdown",
   "metadata": {},
   "source": [
    "## Paired t-tests\n",
    "\n",
    "We'll use the book price example from your textbook (see section 5.2) to illustrate a paired t-test.  The data is book prices from the UCLA bookstore and Amazon.com, for 73 text books used in classes at UCLA.\n",
    "\n",
    "Our null and alternative hypotheses are:\n",
    "\n",
    "* $H_0$:  the mean book price of textbooks at the UCLA bookstore and Amazon.com are the same\n",
    "\n",
    "* $H_A$: the mean books price of textbooks at the UCLA bookstore and Amazon.com are different\n"
   ]
  },
  {
   "cell_type": "code",
   "execution_count": 16,
   "metadata": {
    "collapsed": true
   },
   "outputs": [],
   "source": [
    "books = pd.read_table(\"https://github.com/Bio204-class/bio204-datasets/raw/master/textbooks.txt\")"
   ]
  },
  {
   "cell_type": "code",
   "execution_count": 17,
   "metadata": {
    "collapsed": false
   },
   "outputs": [
    {
     "data": {
      "text/plain": [
       "Index(['deptAbbr', 'course', 'ibsn', 'uclaNew', 'amazNew', 'more', 'diff'], dtype='object')"
      ]
     },
     "execution_count": 17,
     "metadata": {},
     "output_type": "execute_result"
    }
   ],
   "source": [
    "books.columns"
   ]
  },
  {
   "cell_type": "code",
   "execution_count": 20,
   "metadata": {
    "collapsed": false
   },
   "outputs": [
    {
     "data": {
      "text/html": [
       "<div>\n",
       "<table border=\"1\" class=\"dataframe\">\n",
       "  <thead>\n",
       "    <tr style=\"text-align: right;\">\n",
       "      <th></th>\n",
       "      <th>deptAbbr</th>\n",
       "      <th>course</th>\n",
       "      <th>ibsn</th>\n",
       "      <th>uclaNew</th>\n",
       "      <th>amazNew</th>\n",
       "      <th>more</th>\n",
       "      <th>diff</th>\n",
       "    </tr>\n",
       "  </thead>\n",
       "  <tbody>\n",
       "    <tr>\n",
       "      <th>0</th>\n",
       "      <td>Am Ind</td>\n",
       "      <td>C170</td>\n",
       "      <td>978-0803272620</td>\n",
       "      <td>27.67</td>\n",
       "      <td>27.95</td>\n",
       "      <td>Y</td>\n",
       "      <td>-0.28</td>\n",
       "    </tr>\n",
       "    <tr>\n",
       "      <th>1</th>\n",
       "      <td>Anthro</td>\n",
       "      <td>9</td>\n",
       "      <td>978-0030119194</td>\n",
       "      <td>40.59</td>\n",
       "      <td>31.14</td>\n",
       "      <td>Y</td>\n",
       "      <td>9.45</td>\n",
       "    </tr>\n",
       "    <tr>\n",
       "      <th>2</th>\n",
       "      <td>Anthro</td>\n",
       "      <td>135T</td>\n",
       "      <td>978-0300080643</td>\n",
       "      <td>31.68</td>\n",
       "      <td>32.00</td>\n",
       "      <td>Y</td>\n",
       "      <td>-0.32</td>\n",
       "    </tr>\n",
       "    <tr>\n",
       "      <th>3</th>\n",
       "      <td>Anthro</td>\n",
       "      <td>191HB</td>\n",
       "      <td>978-0226206813</td>\n",
       "      <td>16.00</td>\n",
       "      <td>11.52</td>\n",
       "      <td>Y</td>\n",
       "      <td>4.48</td>\n",
       "    </tr>\n",
       "    <tr>\n",
       "      <th>4</th>\n",
       "      <td>Art His</td>\n",
       "      <td>M102K</td>\n",
       "      <td>978-0892365999</td>\n",
       "      <td>18.95</td>\n",
       "      <td>14.21</td>\n",
       "      <td>Y</td>\n",
       "      <td>4.74</td>\n",
       "    </tr>\n",
       "  </tbody>\n",
       "</table>\n",
       "</div>"
      ],
      "text/plain": [
       "  deptAbbr course            ibsn  uclaNew  amazNew more  diff\n",
       "0   Am Ind   C170  978-0803272620    27.67    27.95    Y -0.28\n",
       "1   Anthro      9  978-0030119194    40.59    31.14    Y  9.45\n",
       "2   Anthro   135T  978-0300080643    31.68    32.00    Y -0.32\n",
       "3   Anthro  191HB  978-0226206813    16.00    11.52    Y  4.48\n",
       "4  Art His  M102K  978-0892365999    18.95    14.21    Y  4.74"
      ]
     },
     "execution_count": 20,
     "metadata": {},
     "output_type": "execute_result"
    }
   ],
   "source": [
    "books.head()"
   ]
  },
  {
   "cell_type": "code",
   "execution_count": 21,
   "metadata": {
    "collapsed": false
   },
   "outputs": [
    {
     "data": {
      "text/plain": [
       "(73, 7)"
      ]
     },
     "execution_count": 21,
     "metadata": {},
     "output_type": "execute_result"
    }
   ],
   "source": [
    "books.shape"
   ]
  },
  {
   "cell_type": "code",
   "execution_count": 22,
   "metadata": {
    "collapsed": true
   },
   "outputs": [],
   "source": [
    "booksT = stats.ttest_rel(books.uclaNew, books.amazNew)"
   ]
  },
  {
   "cell_type": "code",
   "execution_count": 23,
   "metadata": {
    "collapsed": false
   },
   "outputs": [
    {
     "data": {
      "text/plain": [
       "Ttest_relResult(statistic=7.6487711124797526, pvalue=6.927581126065491e-11)"
      ]
     },
     "execution_count": 23,
     "metadata": {},
     "output_type": "execute_result"
    }
   ],
   "source": [
    "booksT"
   ]
  },
  {
   "cell_type": "markdown",
   "metadata": {},
   "source": [
    "Our calculated t-score is 7.65, with a corresponding p-value of ~$7 \\times 10^{-11}$.  Compare this to the calculation of the t-score for these data on page 230 of your textbook.  We therefore have strong evidence to reject the null-hypothesis."
   ]
  },
  {
   "cell_type": "markdown",
   "metadata": {},
   "source": [
    "## t-test for independent samples\n",
    "\n",
    "To illustrate t-tests for independent samples we'll use the smoking and birthweight example from section 5.3 of your text book.\n",
    "\n",
    "This data set includes 150 cases of mothers and their newborns in North Carolina. As per the textbook ((Diez et al. 2015), the null and alternative hypotheses we want to test are:\n",
    "\n",
    "* $H_0$: There is no difference in average birth weight for newborns from mothers who\n",
    "did and did not smoke. In statistical notation: $μ_n − μ_s = 0$, where $μ_n$ represents\n",
    "non-smoking mothers and $μ_s$ represents mothers who smoked.\n",
    "\n",
    "* $H_A$: There is some difference in average newborn weights from mothers who did and\n",
    "did not smoke ($μ_n$ − $μ_s$ $\\neq$ 0).\n",
    "\n",
    "\n"
   ]
  },
  {
   "cell_type": "code",
   "execution_count": 24,
   "metadata": {
    "collapsed": true
   },
   "outputs": [],
   "source": [
    "births = pd.read_table(\"https://github.com/Bio204-class/bio204-datasets/raw/master/births.txt\")"
   ]
  },
  {
   "cell_type": "code",
   "execution_count": 25,
   "metadata": {
    "collapsed": false
   },
   "outputs": [
    {
     "data": {
      "text/html": [
       "<div>\n",
       "<table border=\"1\" class=\"dataframe\">\n",
       "  <thead>\n",
       "    <tr style=\"text-align: right;\">\n",
       "      <th></th>\n",
       "      <th>fAge</th>\n",
       "      <th>mAge</th>\n",
       "      <th>weeks</th>\n",
       "      <th>premature</th>\n",
       "      <th>visits</th>\n",
       "      <th>gained</th>\n",
       "      <th>weight</th>\n",
       "      <th>sexBaby</th>\n",
       "      <th>smoke</th>\n",
       "    </tr>\n",
       "  </thead>\n",
       "  <tbody>\n",
       "    <tr>\n",
       "      <th>0</th>\n",
       "      <td>31</td>\n",
       "      <td>30</td>\n",
       "      <td>39</td>\n",
       "      <td>full term</td>\n",
       "      <td>13</td>\n",
       "      <td>1</td>\n",
       "      <td>6.88</td>\n",
       "      <td>male</td>\n",
       "      <td>smoker</td>\n",
       "    </tr>\n",
       "    <tr>\n",
       "      <th>1</th>\n",
       "      <td>34</td>\n",
       "      <td>36</td>\n",
       "      <td>39</td>\n",
       "      <td>full term</td>\n",
       "      <td>5</td>\n",
       "      <td>35</td>\n",
       "      <td>7.69</td>\n",
       "      <td>male</td>\n",
       "      <td>nonsmoker</td>\n",
       "    </tr>\n",
       "    <tr>\n",
       "      <th>2</th>\n",
       "      <td>36</td>\n",
       "      <td>35</td>\n",
       "      <td>40</td>\n",
       "      <td>full term</td>\n",
       "      <td>12</td>\n",
       "      <td>29</td>\n",
       "      <td>8.88</td>\n",
       "      <td>male</td>\n",
       "      <td>nonsmoker</td>\n",
       "    </tr>\n",
       "    <tr>\n",
       "      <th>3</th>\n",
       "      <td>41</td>\n",
       "      <td>40</td>\n",
       "      <td>40</td>\n",
       "      <td>full term</td>\n",
       "      <td>13</td>\n",
       "      <td>30</td>\n",
       "      <td>9.00</td>\n",
       "      <td>female</td>\n",
       "      <td>nonsmoker</td>\n",
       "    </tr>\n",
       "    <tr>\n",
       "      <th>4</th>\n",
       "      <td>42</td>\n",
       "      <td>37</td>\n",
       "      <td>40</td>\n",
       "      <td>full term</td>\n",
       "      <td>NaN</td>\n",
       "      <td>10</td>\n",
       "      <td>7.94</td>\n",
       "      <td>male</td>\n",
       "      <td>nonsmoker</td>\n",
       "    </tr>\n",
       "  </tbody>\n",
       "</table>\n",
       "</div>"
      ],
      "text/plain": [
       "   fAge  mAge  weeks  premature  visits  gained  weight sexBaby      smoke\n",
       "0    31    30     39  full term      13       1    6.88    male     smoker\n",
       "1    34    36     39  full term       5      35    7.69    male  nonsmoker\n",
       "2    36    35     40  full term      12      29    8.88    male  nonsmoker\n",
       "3    41    40     40  full term      13      30    9.00  female  nonsmoker\n",
       "4    42    37     40  full term     NaN      10    7.94    male  nonsmoker"
      ]
     },
     "execution_count": 25,
     "metadata": {},
     "output_type": "execute_result"
    }
   ],
   "source": [
    "births.head()"
   ]
  },
  {
   "cell_type": "code",
   "execution_count": 26,
   "metadata": {
    "collapsed": false
   },
   "outputs": [
    {
     "data": {
      "text/plain": [
       "(150, 9)"
      ]
     },
     "execution_count": 26,
     "metadata": {},
     "output_type": "execute_result"
    }
   ],
   "source": [
    "births.shape"
   ]
  },
  {
   "cell_type": "markdown",
   "metadata": {},
   "source": [
    "Let's use the `groupby` and `describe` methods to generate some useful summary statistics on baby weight, grouped-by whether the mother smoked or not."
   ]
  },
  {
   "cell_type": "code",
   "execution_count": 35,
   "metadata": {
    "collapsed": false
   },
   "outputs": [
    {
     "data": {
      "text/plain": [
       "smoke           \n",
       "nonsmoker  count    100.000000\n",
       "           mean       7.179500\n",
       "           std        1.434152\n",
       "           min        1.630000\n",
       "           25%        6.702500\n",
       "           50%        7.440000\n",
       "           75%        8.060000\n",
       "           max       10.130000\n",
       "smoker     count     50.000000\n",
       "           mean       6.779000\n",
       "           std        1.597415\n",
       "           min        1.690000\n",
       "           25%        6.220000\n",
       "           50%        6.970000\n",
       "           75%        7.810000\n",
       "           max        9.130000\n",
       "dtype: float64"
      ]
     },
     "execution_count": 35,
     "metadata": {},
     "output_type": "execute_result"
    }
   ],
   "source": [
    "births.groupby('smoke').weight.describe()"
   ]
  },
  {
   "cell_type": "markdown",
   "metadata": {},
   "source": [
    "We see that the mean birthweight for babies of non-smoking mothers is greater than that for smoking mothers (7.18 vs 6.78 lbs).  However, there is significant variation for both classes."
   ]
  },
  {
   "cell_type": "code",
   "execution_count": 27,
   "metadata": {
    "collapsed": true
   },
   "outputs": [],
   "source": [
    "# subset data based on smoke column\n",
    "nonsmokers = births[births.smoke == 'nonsmoker']\n",
    "smokers = births[births.smoke == \"smoker\"]"
   ]
  },
  {
   "cell_type": "code",
   "execution_count": 28,
   "metadata": {
    "collapsed": true
   },
   "outputs": [],
   "source": [
    "birthT = stats.ttest_ind(nonsmokers.weight, smokers.weight)"
   ]
  },
  {
   "cell_type": "code",
   "execution_count": 29,
   "metadata": {
    "collapsed": false
   },
   "outputs": [
    {
     "data": {
      "text/plain": [
       "Ttest_indResult(statistic=1.5516757058253177, pvalue=0.12287562175328536)"
      ]
     },
     "execution_count": 29,
     "metadata": {},
     "output_type": "execute_result"
    }
   ],
   "source": [
    "birthT"
   ]
  },
  {
   "cell_type": "markdown",
   "metadata": {},
   "source": [
    "For this example, we fail to reject the null hypothesis of no-difference in means, at the significance level $\\alpha=0.5$."
   ]
  },
  {
   "cell_type": "code",
   "execution_count": null,
   "metadata": {
    "collapsed": true
   },
   "outputs": [],
   "source": []
  }
 ],
 "metadata": {
  "kernelspec": {
   "display_name": "Python 3",
   "language": "python",
   "name": "python3"
  },
  "language_info": {
   "codemirror_mode": {
    "name": "ipython",
    "version": 3
   },
   "file_extension": ".py",
   "mimetype": "text/x-python",
   "name": "python",
   "nbconvert_exporter": "python",
   "pygments_lexer": "ipython3",
   "version": "3.5.1"
  }
 },
 "nbformat": 4,
 "nbformat_minor": 0
}
