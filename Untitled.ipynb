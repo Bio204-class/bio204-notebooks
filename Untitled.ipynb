{
 "cells": [
  {
   "cell_type": "code",
   "execution_count": 1,
   "metadata": {
    "collapsed": true
   },
   "outputs": [],
   "source": [
    "%matplotlib inline\n",
    "import numpy as np\n",
    "import scipy.stats as stats\n",
    "import matplotlib.pyplot as plt\n",
    "import pandas as pd"
   ]
  },
  {
   "cell_type": "code",
   "execution_count": 2,
   "metadata": {
    "collapsed": true
   },
   "outputs": [],
   "source": [
    "births_url = \"https://goo.gl/pFAL23\"\n",
    "\n",
    "births = pd.read_table(births_url)"
   ]
  },
  {
   "cell_type": "code",
   "execution_count": 4,
   "metadata": {
    "collapsed": false
   },
   "outputs": [
    {
     "data": {
      "text/html": [
       "<div>\n",
       "<table border=\"1\" class=\"dataframe\">\n",
       "  <thead>\n",
       "    <tr style=\"text-align: right;\">\n",
       "      <th></th>\n",
       "      <th>fAge</th>\n",
       "      <th>mAge</th>\n",
       "      <th>weeks</th>\n",
       "      <th>premature</th>\n",
       "      <th>visits</th>\n",
       "      <th>gained</th>\n",
       "      <th>weight</th>\n",
       "      <th>sexBaby</th>\n",
       "      <th>smoke</th>\n",
       "    </tr>\n",
       "  </thead>\n",
       "  <tbody>\n",
       "    <tr>\n",
       "      <th>0</th>\n",
       "      <td>31</td>\n",
       "      <td>30</td>\n",
       "      <td>39</td>\n",
       "      <td>full term</td>\n",
       "      <td>13</td>\n",
       "      <td>1</td>\n",
       "      <td>6.88</td>\n",
       "      <td>male</td>\n",
       "      <td>smoker</td>\n",
       "    </tr>\n",
       "    <tr>\n",
       "      <th>1</th>\n",
       "      <td>34</td>\n",
       "      <td>36</td>\n",
       "      <td>39</td>\n",
       "      <td>full term</td>\n",
       "      <td>5</td>\n",
       "      <td>35</td>\n",
       "      <td>7.69</td>\n",
       "      <td>male</td>\n",
       "      <td>nonsmoker</td>\n",
       "    </tr>\n",
       "    <tr>\n",
       "      <th>2</th>\n",
       "      <td>36</td>\n",
       "      <td>35</td>\n",
       "      <td>40</td>\n",
       "      <td>full term</td>\n",
       "      <td>12</td>\n",
       "      <td>29</td>\n",
       "      <td>8.88</td>\n",
       "      <td>male</td>\n",
       "      <td>nonsmoker</td>\n",
       "    </tr>\n",
       "    <tr>\n",
       "      <th>3</th>\n",
       "      <td>41</td>\n",
       "      <td>40</td>\n",
       "      <td>40</td>\n",
       "      <td>full term</td>\n",
       "      <td>13</td>\n",
       "      <td>30</td>\n",
       "      <td>9.00</td>\n",
       "      <td>female</td>\n",
       "      <td>nonsmoker</td>\n",
       "    </tr>\n",
       "    <tr>\n",
       "      <th>4</th>\n",
       "      <td>42</td>\n",
       "      <td>37</td>\n",
       "      <td>40</td>\n",
       "      <td>full term</td>\n",
       "      <td>NaN</td>\n",
       "      <td>10</td>\n",
       "      <td>7.94</td>\n",
       "      <td>male</td>\n",
       "      <td>nonsmoker</td>\n",
       "    </tr>\n",
       "    <tr>\n",
       "      <th>5</th>\n",
       "      <td>37</td>\n",
       "      <td>28</td>\n",
       "      <td>40</td>\n",
       "      <td>full term</td>\n",
       "      <td>12</td>\n",
       "      <td>35</td>\n",
       "      <td>8.25</td>\n",
       "      <td>male</td>\n",
       "      <td>smoker</td>\n",
       "    </tr>\n",
       "    <tr>\n",
       "      <th>6</th>\n",
       "      <td>35</td>\n",
       "      <td>35</td>\n",
       "      <td>28</td>\n",
       "      <td>premie</td>\n",
       "      <td>6</td>\n",
       "      <td>29</td>\n",
       "      <td>1.63</td>\n",
       "      <td>female</td>\n",
       "      <td>nonsmoker</td>\n",
       "    </tr>\n",
       "    <tr>\n",
       "      <th>7</th>\n",
       "      <td>28</td>\n",
       "      <td>21</td>\n",
       "      <td>35</td>\n",
       "      <td>premie</td>\n",
       "      <td>9</td>\n",
       "      <td>15</td>\n",
       "      <td>5.50</td>\n",
       "      <td>female</td>\n",
       "      <td>smoker</td>\n",
       "    </tr>\n",
       "    <tr>\n",
       "      <th>8</th>\n",
       "      <td>22</td>\n",
       "      <td>20</td>\n",
       "      <td>32</td>\n",
       "      <td>premie</td>\n",
       "      <td>5</td>\n",
       "      <td>40</td>\n",
       "      <td>2.69</td>\n",
       "      <td>male</td>\n",
       "      <td>smoker</td>\n",
       "    </tr>\n",
       "    <tr>\n",
       "      <th>9</th>\n",
       "      <td>36</td>\n",
       "      <td>25</td>\n",
       "      <td>40</td>\n",
       "      <td>full term</td>\n",
       "      <td>13</td>\n",
       "      <td>34</td>\n",
       "      <td>8.75</td>\n",
       "      <td>female</td>\n",
       "      <td>nonsmoker</td>\n",
       "    </tr>\n",
       "  </tbody>\n",
       "</table>\n",
       "</div>"
      ],
      "text/plain": [
       "   fAge  mAge  weeks  premature  visits  gained  weight sexBaby      smoke\n",
       "0    31    30     39  full term      13       1    6.88    male     smoker\n",
       "1    34    36     39  full term       5      35    7.69    male  nonsmoker\n",
       "2    36    35     40  full term      12      29    8.88    male  nonsmoker\n",
       "3    41    40     40  full term      13      30    9.00  female  nonsmoker\n",
       "4    42    37     40  full term     NaN      10    7.94    male  nonsmoker\n",
       "5    37    28     40  full term      12      35    8.25    male     smoker\n",
       "6    35    35     28     premie       6      29    1.63  female  nonsmoker\n",
       "7    28    21     35     premie       9      15    5.50  female     smoker\n",
       "8    22    20     32     premie       5      40    2.69    male     smoker\n",
       "9    36    25     40  full term      13      34    8.75  female  nonsmoker"
      ]
     },
     "execution_count": 4,
     "metadata": {},
     "output_type": "execute_result"
    }
   ],
   "source": [
    "births.head(n=10)"
   ]
  },
  {
   "cell_type": "code",
   "execution_count": 6,
   "metadata": {
    "collapsed": false
   },
   "outputs": [
    {
     "data": {
      "text/plain": [
       "1"
      ]
     },
     "execution_count": 6,
     "metadata": {},
     "output_type": "execute_result"
    }
   ],
   "source": [
    "births.visits.isnull().sum()"
   ]
  },
  {
   "cell_type": "code",
   "execution_count": 7,
   "metadata": {
    "collapsed": false
   },
   "outputs": [
    {
     "data": {
      "text/plain": [
       "fAge         31\n",
       "mAge          0\n",
       "weeks         0\n",
       "premature     0\n",
       "visits        1\n",
       "gained        2\n",
       "weight        0\n",
       "sexBaby       0\n",
       "smoke         0\n",
       "dtype: int64"
      ]
     },
     "execution_count": 7,
     "metadata": {},
     "output_type": "execute_result"
    }
   ],
   "source": [
    "births.isnull().sum()"
   ]
  },
  {
   "cell_type": "code",
   "execution_count": 10,
   "metadata": {
    "collapsed": false
   },
   "outputs": [
    {
     "data": {
      "text/plain": [
       "array(['smoker', 'nonsmoker'], dtype=object)"
      ]
     },
     "execution_count": 10,
     "metadata": {},
     "output_type": "execute_result"
    }
   ],
   "source": [
    "births.smoke.unique()"
   ]
  },
  {
   "cell_type": "code",
   "execution_count": 11,
   "metadata": {
    "collapsed": false
   },
   "outputs": [
    {
     "data": {
      "text/plain": [
       "129"
      ]
     },
     "execution_count": 11,
     "metadata": {},
     "output_type": "execute_result"
    }
   ],
   "source": [
    "nfullterm = births.premature == \"full term\"\n",
    "nfullterm.sum()"
   ]
  },
  {
   "cell_type": "code",
   "execution_count": 12,
   "metadata": {
    "collapsed": false
   },
   "outputs": [
    {
     "data": {
      "text/plain": [
       "21"
      ]
     },
     "execution_count": 12,
     "metadata": {},
     "output_type": "execute_result"
    }
   ],
   "source": [
    "npremie = births.premature == \"premie\"\n",
    "npremie.sum()"
   ]
  },
  {
   "cell_type": "code",
   "execution_count": 13,
   "metadata": {
    "collapsed": false
   },
   "outputs": [
    {
     "data": {
      "text/html": [
       "<div>\n",
       "<table border=\"1\" class=\"dataframe\">\n",
       "  <thead>\n",
       "    <tr style=\"text-align: right;\">\n",
       "      <th></th>\n",
       "      <th>fAge</th>\n",
       "      <th>mAge</th>\n",
       "      <th>weeks</th>\n",
       "      <th>premature</th>\n",
       "      <th>visits</th>\n",
       "      <th>gained</th>\n",
       "      <th>weight</th>\n",
       "      <th>sexBaby</th>\n",
       "      <th>smoke</th>\n",
       "    </tr>\n",
       "  </thead>\n",
       "  <tbody>\n",
       "    <tr>\n",
       "      <th>6</th>\n",
       "      <td>35</td>\n",
       "      <td>35</td>\n",
       "      <td>28</td>\n",
       "      <td>premie</td>\n",
       "      <td>6</td>\n",
       "      <td>29</td>\n",
       "      <td>1.63</td>\n",
       "      <td>female</td>\n",
       "      <td>nonsmoker</td>\n",
       "    </tr>\n",
       "    <tr>\n",
       "      <th>7</th>\n",
       "      <td>28</td>\n",
       "      <td>21</td>\n",
       "      <td>35</td>\n",
       "      <td>premie</td>\n",
       "      <td>9</td>\n",
       "      <td>15</td>\n",
       "      <td>5.50</td>\n",
       "      <td>female</td>\n",
       "      <td>smoker</td>\n",
       "    </tr>\n",
       "    <tr>\n",
       "      <th>8</th>\n",
       "      <td>22</td>\n",
       "      <td>20</td>\n",
       "      <td>32</td>\n",
       "      <td>premie</td>\n",
       "      <td>5</td>\n",
       "      <td>40</td>\n",
       "      <td>2.69</td>\n",
       "      <td>male</td>\n",
       "      <td>smoker</td>\n",
       "    </tr>\n",
       "    <tr>\n",
       "      <th>10</th>\n",
       "      <td>27</td>\n",
       "      <td>19</td>\n",
       "      <td>32</td>\n",
       "      <td>premie</td>\n",
       "      <td>5</td>\n",
       "      <td>32</td>\n",
       "      <td>6.50</td>\n",
       "      <td>female</td>\n",
       "      <td>nonsmoker</td>\n",
       "    </tr>\n",
       "    <tr>\n",
       "      <th>16</th>\n",
       "      <td>33</td>\n",
       "      <td>40</td>\n",
       "      <td>36</td>\n",
       "      <td>premie</td>\n",
       "      <td>13</td>\n",
       "      <td>23</td>\n",
       "      <td>7.81</td>\n",
       "      <td>female</td>\n",
       "      <td>nonsmoker</td>\n",
       "    </tr>\n",
       "    <tr>\n",
       "      <th>18</th>\n",
       "      <td>28</td>\n",
       "      <td>27</td>\n",
       "      <td>33</td>\n",
       "      <td>premie</td>\n",
       "      <td>6</td>\n",
       "      <td>18</td>\n",
       "      <td>4.75</td>\n",
       "      <td>male</td>\n",
       "      <td>smoker</td>\n",
       "    </tr>\n",
       "    <tr>\n",
       "      <th>19</th>\n",
       "      <td>25</td>\n",
       "      <td>22</td>\n",
       "      <td>34</td>\n",
       "      <td>premie</td>\n",
       "      <td>10</td>\n",
       "      <td>20</td>\n",
       "      <td>3.75</td>\n",
       "      <td>male</td>\n",
       "      <td>nonsmoker</td>\n",
       "    </tr>\n",
       "    <tr>\n",
       "      <th>21</th>\n",
       "      <td>NaN</td>\n",
       "      <td>38</td>\n",
       "      <td>32</td>\n",
       "      <td>premie</td>\n",
       "      <td>10</td>\n",
       "      <td>16</td>\n",
       "      <td>2.19</td>\n",
       "      <td>female</td>\n",
       "      <td>smoker</td>\n",
       "    </tr>\n",
       "    <tr>\n",
       "      <th>31</th>\n",
       "      <td>NaN</td>\n",
       "      <td>21</td>\n",
       "      <td>36</td>\n",
       "      <td>premie</td>\n",
       "      <td>15</td>\n",
       "      <td>10</td>\n",
       "      <td>6.81</td>\n",
       "      <td>male</td>\n",
       "      <td>nonsmoker</td>\n",
       "    </tr>\n",
       "    <tr>\n",
       "      <th>43</th>\n",
       "      <td>27</td>\n",
       "      <td>22</td>\n",
       "      <td>35</td>\n",
       "      <td>premie</td>\n",
       "      <td>12</td>\n",
       "      <td>30</td>\n",
       "      <td>4.69</td>\n",
       "      <td>male</td>\n",
       "      <td>nonsmoker</td>\n",
       "    </tr>\n",
       "    <tr>\n",
       "      <th>44</th>\n",
       "      <td>33</td>\n",
       "      <td>25</td>\n",
       "      <td>35</td>\n",
       "      <td>premie</td>\n",
       "      <td>15</td>\n",
       "      <td>18</td>\n",
       "      <td>6.75</td>\n",
       "      <td>male</td>\n",
       "      <td>nonsmoker</td>\n",
       "    </tr>\n",
       "    <tr>\n",
       "      <th>46</th>\n",
       "      <td>30</td>\n",
       "      <td>25</td>\n",
       "      <td>35</td>\n",
       "      <td>premie</td>\n",
       "      <td>15</td>\n",
       "      <td>40</td>\n",
       "      <td>4.50</td>\n",
       "      <td>male</td>\n",
       "      <td>smoker</td>\n",
       "    </tr>\n",
       "    <tr>\n",
       "      <th>66</th>\n",
       "      <td>29</td>\n",
       "      <td>31</td>\n",
       "      <td>36</td>\n",
       "      <td>premie</td>\n",
       "      <td>8</td>\n",
       "      <td>42</td>\n",
       "      <td>5.94</td>\n",
       "      <td>male</td>\n",
       "      <td>smoker</td>\n",
       "    </tr>\n",
       "    <tr>\n",
       "      <th>67</th>\n",
       "      <td>19</td>\n",
       "      <td>20</td>\n",
       "      <td>34</td>\n",
       "      <td>premie</td>\n",
       "      <td>13</td>\n",
       "      <td>6</td>\n",
       "      <td>4.50</td>\n",
       "      <td>male</td>\n",
       "      <td>nonsmoker</td>\n",
       "    </tr>\n",
       "    <tr>\n",
       "      <th>82</th>\n",
       "      <td>NaN</td>\n",
       "      <td>32</td>\n",
       "      <td>33</td>\n",
       "      <td>premie</td>\n",
       "      <td>10</td>\n",
       "      <td>60</td>\n",
       "      <td>5.06</td>\n",
       "      <td>male</td>\n",
       "      <td>nonsmoker</td>\n",
       "    </tr>\n",
       "    <tr>\n",
       "      <th>91</th>\n",
       "      <td>NaN</td>\n",
       "      <td>41</td>\n",
       "      <td>33</td>\n",
       "      <td>premie</td>\n",
       "      <td>13</td>\n",
       "      <td>0</td>\n",
       "      <td>5.69</td>\n",
       "      <td>female</td>\n",
       "      <td>nonsmoker</td>\n",
       "    </tr>\n",
       "    <tr>\n",
       "      <th>125</th>\n",
       "      <td>NaN</td>\n",
       "      <td>18</td>\n",
       "      <td>33</td>\n",
       "      <td>premie</td>\n",
       "      <td>7</td>\n",
       "      <td>40</td>\n",
       "      <td>1.69</td>\n",
       "      <td>male</td>\n",
       "      <td>smoker</td>\n",
       "    </tr>\n",
       "    <tr>\n",
       "      <th>127</th>\n",
       "      <td>37</td>\n",
       "      <td>33</td>\n",
       "      <td>36</td>\n",
       "      <td>premie</td>\n",
       "      <td>11</td>\n",
       "      <td>15</td>\n",
       "      <td>6.31</td>\n",
       "      <td>male</td>\n",
       "      <td>smoker</td>\n",
       "    </tr>\n",
       "    <tr>\n",
       "      <th>130</th>\n",
       "      <td>17</td>\n",
       "      <td>17</td>\n",
       "      <td>29</td>\n",
       "      <td>premie</td>\n",
       "      <td>4</td>\n",
       "      <td>10</td>\n",
       "      <td>2.63</td>\n",
       "      <td>female</td>\n",
       "      <td>nonsmoker</td>\n",
       "    </tr>\n",
       "    <tr>\n",
       "      <th>140</th>\n",
       "      <td>NaN</td>\n",
       "      <td>23</td>\n",
       "      <td>36</td>\n",
       "      <td>premie</td>\n",
       "      <td>2</td>\n",
       "      <td>27</td>\n",
       "      <td>5.88</td>\n",
       "      <td>female</td>\n",
       "      <td>nonsmoker</td>\n",
       "    </tr>\n",
       "    <tr>\n",
       "      <th>149</th>\n",
       "      <td>38</td>\n",
       "      <td>37</td>\n",
       "      <td>26</td>\n",
       "      <td>premie</td>\n",
       "      <td>5</td>\n",
       "      <td>25</td>\n",
       "      <td>3.63</td>\n",
       "      <td>male</td>\n",
       "      <td>nonsmoker</td>\n",
       "    </tr>\n",
       "  </tbody>\n",
       "</table>\n",
       "</div>"
      ],
      "text/plain": [
       "     fAge  mAge  weeks premature  visits  gained  weight sexBaby      smoke\n",
       "6      35    35     28    premie       6      29    1.63  female  nonsmoker\n",
       "7      28    21     35    premie       9      15    5.50  female     smoker\n",
       "8      22    20     32    premie       5      40    2.69    male     smoker\n",
       "10     27    19     32    premie       5      32    6.50  female  nonsmoker\n",
       "16     33    40     36    premie      13      23    7.81  female  nonsmoker\n",
       "18     28    27     33    premie       6      18    4.75    male     smoker\n",
       "19     25    22     34    premie      10      20    3.75    male  nonsmoker\n",
       "21    NaN    38     32    premie      10      16    2.19  female     smoker\n",
       "31    NaN    21     36    premie      15      10    6.81    male  nonsmoker\n",
       "43     27    22     35    premie      12      30    4.69    male  nonsmoker\n",
       "44     33    25     35    premie      15      18    6.75    male  nonsmoker\n",
       "46     30    25     35    premie      15      40    4.50    male     smoker\n",
       "66     29    31     36    premie       8      42    5.94    male     smoker\n",
       "67     19    20     34    premie      13       6    4.50    male  nonsmoker\n",
       "82    NaN    32     33    premie      10      60    5.06    male  nonsmoker\n",
       "91    NaN    41     33    premie      13       0    5.69  female  nonsmoker\n",
       "125   NaN    18     33    premie       7      40    1.69    male     smoker\n",
       "127    37    33     36    premie      11      15    6.31    male     smoker\n",
       "130    17    17     29    premie       4      10    2.63  female  nonsmoker\n",
       "140   NaN    23     36    premie       2      27    5.88  female  nonsmoker\n",
       "149    38    37     26    premie       5      25    3.63    male  nonsmoker"
      ]
     },
     "execution_count": 13,
     "metadata": {},
     "output_type": "execute_result"
    }
   ],
   "source": [
    "births[npremie]"
   ]
  },
  {
   "cell_type": "code",
   "execution_count": 20,
   "metadata": {
    "collapsed": false
   },
   "outputs": [
    {
     "data": {
      "text/plain": [
       "(68, 9)"
      ]
     },
     "execution_count": 20,
     "metadata": {},
     "output_type": "execute_result"
    }
   ],
   "source": [
    "#babyGirls = births.query('sexBaby == \"female\"')\n",
    "#babyGirls = births[births.sexBaby == \"female\"]\n",
    "isgirl = births.sexBaby == \"female\"\n",
    "births[isgirl].shape"
   ]
  },
  {
   "cell_type": "code",
   "execution_count": 16,
   "metadata": {
    "collapsed": false
   },
   "outputs": [
    {
     "data": {
      "text/plain": [
       "(68, 9)"
      ]
     },
     "execution_count": 16,
     "metadata": {},
     "output_type": "execute_result"
    }
   ],
   "source": [
    "babyGirls.shape"
   ]
  },
  {
   "cell_type": "code",
   "execution_count": 21,
   "metadata": {
    "collapsed": false
   },
   "outputs": [
    {
     "data": {
      "text/plain": [
       "(82, 9)"
      ]
     },
     "execution_count": 21,
     "metadata": {},
     "output_type": "execute_result"
    }
   ],
   "source": [
    "isboy = births.sexBaby == \"male\"\n",
    "births[isboy].shape"
   ]
  },
  {
   "cell_type": "code",
   "execution_count": 22,
   "metadata": {
    "collapsed": true
   },
   "outputs": [],
   "source": [
    "ispremie = births.premature == \"premie\""
   ]
  },
  {
   "cell_type": "code",
   "execution_count": 23,
   "metadata": {
    "collapsed": true
   },
   "outputs": [],
   "source": [
    "premieGirls = births[isgirl & ispremie]"
   ]
  },
  {
   "cell_type": "code",
   "execution_count": 24,
   "metadata": {
    "collapsed": false
   },
   "outputs": [
    {
     "data": {
      "text/html": [
       "<div>\n",
       "<table border=\"1\" class=\"dataframe\">\n",
       "  <thead>\n",
       "    <tr style=\"text-align: right;\">\n",
       "      <th></th>\n",
       "      <th>fAge</th>\n",
       "      <th>mAge</th>\n",
       "      <th>weeks</th>\n",
       "      <th>premature</th>\n",
       "      <th>visits</th>\n",
       "      <th>gained</th>\n",
       "      <th>weight</th>\n",
       "      <th>sexBaby</th>\n",
       "      <th>smoke</th>\n",
       "    </tr>\n",
       "  </thead>\n",
       "  <tbody>\n",
       "    <tr>\n",
       "      <th>6</th>\n",
       "      <td>35</td>\n",
       "      <td>35</td>\n",
       "      <td>28</td>\n",
       "      <td>premie</td>\n",
       "      <td>6</td>\n",
       "      <td>29</td>\n",
       "      <td>1.63</td>\n",
       "      <td>female</td>\n",
       "      <td>nonsmoker</td>\n",
       "    </tr>\n",
       "    <tr>\n",
       "      <th>7</th>\n",
       "      <td>28</td>\n",
       "      <td>21</td>\n",
       "      <td>35</td>\n",
       "      <td>premie</td>\n",
       "      <td>9</td>\n",
       "      <td>15</td>\n",
       "      <td>5.50</td>\n",
       "      <td>female</td>\n",
       "      <td>smoker</td>\n",
       "    </tr>\n",
       "    <tr>\n",
       "      <th>10</th>\n",
       "      <td>27</td>\n",
       "      <td>19</td>\n",
       "      <td>32</td>\n",
       "      <td>premie</td>\n",
       "      <td>5</td>\n",
       "      <td>32</td>\n",
       "      <td>6.50</td>\n",
       "      <td>female</td>\n",
       "      <td>nonsmoker</td>\n",
       "    </tr>\n",
       "    <tr>\n",
       "      <th>16</th>\n",
       "      <td>33</td>\n",
       "      <td>40</td>\n",
       "      <td>36</td>\n",
       "      <td>premie</td>\n",
       "      <td>13</td>\n",
       "      <td>23</td>\n",
       "      <td>7.81</td>\n",
       "      <td>female</td>\n",
       "      <td>nonsmoker</td>\n",
       "    </tr>\n",
       "    <tr>\n",
       "      <th>21</th>\n",
       "      <td>NaN</td>\n",
       "      <td>38</td>\n",
       "      <td>32</td>\n",
       "      <td>premie</td>\n",
       "      <td>10</td>\n",
       "      <td>16</td>\n",
       "      <td>2.19</td>\n",
       "      <td>female</td>\n",
       "      <td>smoker</td>\n",
       "    </tr>\n",
       "    <tr>\n",
       "      <th>91</th>\n",
       "      <td>NaN</td>\n",
       "      <td>41</td>\n",
       "      <td>33</td>\n",
       "      <td>premie</td>\n",
       "      <td>13</td>\n",
       "      <td>0</td>\n",
       "      <td>5.69</td>\n",
       "      <td>female</td>\n",
       "      <td>nonsmoker</td>\n",
       "    </tr>\n",
       "    <tr>\n",
       "      <th>130</th>\n",
       "      <td>17</td>\n",
       "      <td>17</td>\n",
       "      <td>29</td>\n",
       "      <td>premie</td>\n",
       "      <td>4</td>\n",
       "      <td>10</td>\n",
       "      <td>2.63</td>\n",
       "      <td>female</td>\n",
       "      <td>nonsmoker</td>\n",
       "    </tr>\n",
       "    <tr>\n",
       "      <th>140</th>\n",
       "      <td>NaN</td>\n",
       "      <td>23</td>\n",
       "      <td>36</td>\n",
       "      <td>premie</td>\n",
       "      <td>2</td>\n",
       "      <td>27</td>\n",
       "      <td>5.88</td>\n",
       "      <td>female</td>\n",
       "      <td>nonsmoker</td>\n",
       "    </tr>\n",
       "  </tbody>\n",
       "</table>\n",
       "</div>"
      ],
      "text/plain": [
       "     fAge  mAge  weeks premature  visits  gained  weight sexBaby      smoke\n",
       "6      35    35     28    premie       6      29    1.63  female  nonsmoker\n",
       "7      28    21     35    premie       9      15    5.50  female     smoker\n",
       "10     27    19     32    premie       5      32    6.50  female  nonsmoker\n",
       "16     33    40     36    premie      13      23    7.81  female  nonsmoker\n",
       "21    NaN    38     32    premie      10      16    2.19  female     smoker\n",
       "91    NaN    41     33    premie      13       0    5.69  female  nonsmoker\n",
       "130    17    17     29    premie       4      10    2.63  female  nonsmoker\n",
       "140   NaN    23     36    premie       2      27    5.88  female  nonsmoker"
      ]
     },
     "execution_count": 24,
     "metadata": {},
     "output_type": "execute_result"
    }
   ],
   "source": [
    "premieGirls"
   ]
  },
  {
   "cell_type": "code",
   "execution_count": 26,
   "metadata": {
    "collapsed": false
   },
   "outputs": [
    {
     "data": {
      "text/plain": [
       "7"
      ]
     },
     "execution_count": 26,
     "metadata": {},
     "output_type": "execute_result"
    }
   ],
   "source": [
    "isbig = births.weight > 9\n",
    "isbig.sum()"
   ]
  },
  {
   "cell_type": "code",
   "execution_count": 32,
   "metadata": {
    "collapsed": true
   },
   "outputs": [],
   "source": [
    "boys = births.sexBaby != \"female\""
   ]
  },
  {
   "cell_type": "code",
   "execution_count": 30,
   "metadata": {
    "collapsed": false
   },
   "outputs": [
    {
     "ename": "SyntaxError",
     "evalue": "invalid syntax (<ipython-input-30-3871e93f3198>, line 1)",
     "output_type": "error",
     "traceback": [
      "\u001b[1;36m  File \u001b[1;32m\"<ipython-input-30-3871e93f3198>\"\u001b[1;36m, line \u001b[1;32m1\u001b[0m\n\u001b[1;33m    births[!nofAge]\u001b[0m\n\u001b[1;37m           ^\u001b[0m\n\u001b[1;31mSyntaxError\u001b[0m\u001b[1;31m:\u001b[0m invalid syntax\n"
     ]
    }
   ],
   "source": [
    "births[nofAge]"
   ]
  },
  {
   "cell_type": "code",
   "execution_count": 39,
   "metadata": {
    "collapsed": false
   },
   "outputs": [
    {
     "data": {
      "text/plain": [
       "<pandas.core.groupby.DataFrameGroupBy object at 0x7f056cdadeb8>"
      ]
     },
     "execution_count": 39,
     "metadata": {},
     "output_type": "execute_result"
    }
   ],
   "source": [
    "births.groupby([\"smoke\",\"sexBaby\"])"
   ]
  },
  {
   "cell_type": "code",
   "execution_count": 42,
   "metadata": {
    "collapsed": false
   },
   "outputs": [
    {
     "data": {
      "text/html": [
       "<div>\n",
       "<table border=\"1\" class=\"dataframe\">\n",
       "  <thead>\n",
       "    <tr style=\"text-align: right;\">\n",
       "      <th></th>\n",
       "      <th></th>\n",
       "      <th>fAge</th>\n",
       "      <th>gained</th>\n",
       "      <th>mAge</th>\n",
       "      <th>visits</th>\n",
       "      <th>weeks</th>\n",
       "      <th>weight</th>\n",
       "    </tr>\n",
       "    <tr>\n",
       "      <th>smoke</th>\n",
       "      <th></th>\n",
       "      <th></th>\n",
       "      <th></th>\n",
       "      <th></th>\n",
       "      <th></th>\n",
       "      <th></th>\n",
       "      <th></th>\n",
       "    </tr>\n",
       "  </thead>\n",
       "  <tbody>\n",
       "    <tr>\n",
       "      <th rowspan=\"8\" valign=\"top\">nonsmoker</th>\n",
       "      <th>count</th>\n",
       "      <td>85.000000</td>\n",
       "      <td>99.000000</td>\n",
       "      <td>100.000000</td>\n",
       "      <td>99.000000</td>\n",
       "      <td>100.000000</td>\n",
       "      <td>100.000000</td>\n",
       "    </tr>\n",
       "    <tr>\n",
       "      <th>mean</th>\n",
       "      <td>29.811765</td>\n",
       "      <td>32.545455</td>\n",
       "      <td>26.900000</td>\n",
       "      <td>11.858586</td>\n",
       "      <td>38.550000</td>\n",
       "      <td>7.179500</td>\n",
       "    </tr>\n",
       "    <tr>\n",
       "      <th>std</th>\n",
       "      <td>6.182722</td>\n",
       "      <td>15.231059</td>\n",
       "      <td>6.342895</td>\n",
       "      <td>3.490541</td>\n",
       "      <td>2.875796</td>\n",
       "      <td>1.434152</td>\n",
       "    </tr>\n",
       "    <tr>\n",
       "      <th>min</th>\n",
       "      <td>17.000000</td>\n",
       "      <td>0.000000</td>\n",
       "      <td>15.000000</td>\n",
       "      <td>2.000000</td>\n",
       "      <td>26.000000</td>\n",
       "      <td>1.630000</td>\n",
       "    </tr>\n",
       "    <tr>\n",
       "      <th>25%</th>\n",
       "      <td>25.000000</td>\n",
       "      <td>23.000000</td>\n",
       "      <td>22.000000</td>\n",
       "      <td>10.000000</td>\n",
       "      <td>38.000000</td>\n",
       "      <td>6.702500</td>\n",
       "    </tr>\n",
       "    <tr>\n",
       "      <th>50%</th>\n",
       "      <td>30.000000</td>\n",
       "      <td>31.000000</td>\n",
       "      <td>25.000000</td>\n",
       "      <td>12.000000</td>\n",
       "      <td>39.000000</td>\n",
       "      <td>7.440000</td>\n",
       "    </tr>\n",
       "    <tr>\n",
       "      <th>75%</th>\n",
       "      <td>35.000000</td>\n",
       "      <td>40.000000</td>\n",
       "      <td>32.000000</td>\n",
       "      <td>14.500000</td>\n",
       "      <td>40.000000</td>\n",
       "      <td>8.060000</td>\n",
       "    </tr>\n",
       "    <tr>\n",
       "      <th>max</th>\n",
       "      <td>47.000000</td>\n",
       "      <td>85.000000</td>\n",
       "      <td>41.000000</td>\n",
       "      <td>19.000000</td>\n",
       "      <td>44.000000</td>\n",
       "      <td>10.130000</td>\n",
       "    </tr>\n",
       "    <tr>\n",
       "      <th rowspan=\"8\" valign=\"top\">smoker</th>\n",
       "      <th>count</th>\n",
       "      <td>34.000000</td>\n",
       "      <td>49.000000</td>\n",
       "      <td>50.000000</td>\n",
       "      <td>50.000000</td>\n",
       "      <td>50.000000</td>\n",
       "      <td>50.000000</td>\n",
       "    </tr>\n",
       "    <tr>\n",
       "      <th>mean</th>\n",
       "      <td>29.705882</td>\n",
       "      <td>32.265306</td>\n",
       "      <td>26.000000</td>\n",
       "      <td>10.800000</td>\n",
       "      <td>38.540000</td>\n",
       "      <td>6.779000</td>\n",
       "    </tr>\n",
       "    <tr>\n",
       "      <th>std</th>\n",
       "      <td>6.147330</td>\n",
       "      <td>16.646791</td>\n",
       "      <td>5.993193</td>\n",
       "      <td>3.843893</td>\n",
       "      <td>2.500694</td>\n",
       "      <td>1.597415</td>\n",
       "    </tr>\n",
       "    <tr>\n",
       "      <th>min</th>\n",
       "      <td>20.000000</td>\n",
       "      <td>0.000000</td>\n",
       "      <td>16.000000</td>\n",
       "      <td>3.000000</td>\n",
       "      <td>32.000000</td>\n",
       "      <td>1.690000</td>\n",
       "    </tr>\n",
       "    <tr>\n",
       "      <th>25%</th>\n",
       "      <td>25.000000</td>\n",
       "      <td>22.000000</td>\n",
       "      <td>21.250000</td>\n",
       "      <td>8.000000</td>\n",
       "      <td>38.000000</td>\n",
       "      <td>6.220000</td>\n",
       "    </tr>\n",
       "    <tr>\n",
       "      <th>50%</th>\n",
       "      <td>29.000000</td>\n",
       "      <td>30.000000</td>\n",
       "      <td>25.500000</td>\n",
       "      <td>11.500000</td>\n",
       "      <td>39.000000</td>\n",
       "      <td>6.970000</td>\n",
       "    </tr>\n",
       "    <tr>\n",
       "      <th>75%</th>\n",
       "      <td>33.000000</td>\n",
       "      <td>40.000000</td>\n",
       "      <td>30.000000</td>\n",
       "      <td>14.000000</td>\n",
       "      <td>40.000000</td>\n",
       "      <td>7.810000</td>\n",
       "    </tr>\n",
       "    <tr>\n",
       "      <th>max</th>\n",
       "      <td>46.000000</td>\n",
       "      <td>75.000000</td>\n",
       "      <td>39.000000</td>\n",
       "      <td>17.000000</td>\n",
       "      <td>44.000000</td>\n",
       "      <td>9.130000</td>\n",
       "    </tr>\n",
       "  </tbody>\n",
       "</table>\n",
       "</div>"
      ],
      "text/plain": [
       "                      fAge     gained        mAge     visits       weeks  \\\n",
       "smoke                                                                      \n",
       "nonsmoker count  85.000000  99.000000  100.000000  99.000000  100.000000   \n",
       "          mean   29.811765  32.545455   26.900000  11.858586   38.550000   \n",
       "          std     6.182722  15.231059    6.342895   3.490541    2.875796   \n",
       "          min    17.000000   0.000000   15.000000   2.000000   26.000000   \n",
       "          25%    25.000000  23.000000   22.000000  10.000000   38.000000   \n",
       "          50%    30.000000  31.000000   25.000000  12.000000   39.000000   \n",
       "          75%    35.000000  40.000000   32.000000  14.500000   40.000000   \n",
       "          max    47.000000  85.000000   41.000000  19.000000   44.000000   \n",
       "smoker    count  34.000000  49.000000   50.000000  50.000000   50.000000   \n",
       "          mean   29.705882  32.265306   26.000000  10.800000   38.540000   \n",
       "          std     6.147330  16.646791    5.993193   3.843893    2.500694   \n",
       "          min    20.000000   0.000000   16.000000   3.000000   32.000000   \n",
       "          25%    25.000000  22.000000   21.250000   8.000000   38.000000   \n",
       "          50%    29.000000  30.000000   25.500000  11.500000   39.000000   \n",
       "          75%    33.000000  40.000000   30.000000  14.000000   40.000000   \n",
       "          max    46.000000  75.000000   39.000000  17.000000   44.000000   \n",
       "\n",
       "                     weight  \n",
       "smoke                        \n",
       "nonsmoker count  100.000000  \n",
       "          mean     7.179500  \n",
       "          std      1.434152  \n",
       "          min      1.630000  \n",
       "          25%      6.702500  \n",
       "          50%      7.440000  \n",
       "          75%      8.060000  \n",
       "          max     10.130000  \n",
       "smoker    count   50.000000  \n",
       "          mean     6.779000  \n",
       "          std      1.597415  \n",
       "          min      1.690000  \n",
       "          25%      6.220000  \n",
       "          50%      6.970000  \n",
       "          75%      7.810000  \n",
       "          max      9.130000  "
      ]
     },
     "execution_count": 42,
     "metadata": {},
     "output_type": "execute_result"
    }
   ],
   "source": [
    "g = births.groupby('smoke').describe()\n",
    "g"
   ]
  },
  {
   "cell_type": "code",
   "execution_count": 43,
   "metadata": {
    "collapsed": true
   },
   "outputs": [],
   "source": [
    "## Matplotlib"
   ]
  },
  {
   "cell_type": "code",
   "execution_count": 46,
   "metadata": {
    "collapsed": false
   },
   "outputs": [
    {
     "data": {
      "text/plain": [
       "<matplotlib.text.Text at 0x7f056a451438>"
      ]
     },
     "execution_count": 46,
     "metadata": {},
     "output_type": "execute_result"
    },
    {
     "data": {
      "image/png": "[encoded data removed]",
      "text/plain": [
       "<matplotlib.figure.Figure at 0x7f056a4d5c50>"
      ]
     },
     "metadata": {},
     "output_type": "display_data"
    }
   ],
   "source": [
    "plt.scatter(births.mAge, births.fAge)\n",
    "plt.xlabel(\"Mother's Age\")\n",
    "plt.ylabel(\"Father's Age\")\n",
    "plt.title(\"My useful title\")"
   ]
  },
  {
   "cell_type": "code",
   "execution_count": 47,
   "metadata": {
    "collapsed": false
   },
   "outputs": [
    {
     "data": {
      "image/png": "[encoded data removed]",
      "text/plain": [
       "<matplotlib.figure.Figure at 0x7f056a4146a0>"
      ]
     },
     "metadata": {},
     "output_type": "display_data"
    }
   ],
   "source": [
    "fig = plt.figure()\n",
    "axes = fig.add_axes([0.1, 0.1, 0.8, 0.8])"
   ]
  },
  {
   "cell_type": "code",
   "execution_count": 49,
   "metadata": {
    "collapsed": false
   },
   "outputs": [
    {
     "data": {
      "image/png": "[encoded data removed]",
      "text/plain": [
       "<matplotlib.figure.Figure at 0x7f056a351eb8>"
      ]
     },
     "metadata": {},
     "output_type": "display_data"
    }
   ],
   "source": [
    "fig = plt.figure()\n",
    "axes = fig.add_axes([0.1, 0.1, 0.8, 0.8])\n",
    "\n",
    "axes.scatter(births.mAge, births.fAge)\n",
    "axes.set_xlabel(\"Age of Mother\")\n",
    "axes.set_ylabel(\"Age of Father\")\n",
    "\n",
    "pass"
   ]
  },
  {
   "cell_type": "code",
   "execution_count": 57,
   "metadata": {
    "collapsed": false
   },
   "outputs": [
    {
     "data": {
      "image/png": "[encoded data removed]",
      "text/plain": [
       "<matplotlib.figure.Figure at 0x7f056a061240>"
      ]
     },
     "metadata": {},
     "output_type": "display_data"
    }
   ],
   "source": [
    "fig = plt.figure(figsize=(6,6))\n",
    "axes = fig.add_axes([0.1, 0.1, 0.5, 0.5])\n",
    "\n",
    "axes.scatter(births.mAge, births.fAge)\n",
    "axes.set_xlabel(\"Age of Mother\")\n",
    "axes.set_ylabel(\"Age of Father\")\n",
    "\n",
    "rightax = fig.add_axes([0.7, 0.1, 0.25, 0.5])\n",
    "rightax.hist(births.mAge, normed=True,orientation=\"horizontal\" )\n",
    "\n",
    "\n",
    "above = fig.add_axes([0.1, 0.7, 0.5, 0.25])\n",
    "above.hist(births.mAge, normed=True)\n",
    "above.set_xlim(10,50)\n",
    "\n",
    "pass"
   ]
  },
  {
   "cell_type": "code",
   "execution_count": null,
   "metadata": {
    "collapsed": true
   },
   "outputs": [],
   "source": []
  }
 ],
 "metadata": {
  "kernelspec": {
   "display_name": "Python 3",
   "language": "python",
   "name": "python3"
  },
  "language_info": {
   "codemirror_mode": {
    "name": "ipython",
    "version": 3
   },
   "file_extension": ".py",
   "mimetype": "text/x-python",
   "name": "python",
   "nbconvert_exporter": "python",
   "pygments_lexer": "ipython3",
   "version": "3.5.1"
  }
 },
 "nbformat": 4,
 "nbformat_minor": 0
}
