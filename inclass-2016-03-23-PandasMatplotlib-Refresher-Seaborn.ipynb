{
 "cells": [
  {
   "cell_type": "code",
   "execution_count": 2,
   "metadata": {
    "collapsed": true
   },
   "outputs": [],
   "source": [
    "%matplotlib inline\n",
    "import numpy as np\n",
    "import scipy.stats as stats\n",
    "import matplotlib.pyplot as plt\n",
    "import pandas as pd"
   ]
  },
  {
   "cell_type": "code",
   "execution_count": 3,
   "metadata": {
    "collapsed": false
   },
   "outputs": [],
   "source": [
    "fname = \"https://raw.githubusercontent.com/Bio204-class/bio204-datasets/master/births.txt\"\n",
    "births = pd.read_table(fname)"
   ]
  },
  {
   "cell_type": "code",
   "execution_count": 4,
   "metadata": {
    "collapsed": false
   },
   "outputs": [
    {
     "data": {
      "text/html": [
       "<div>\n",
       "<table border=\"1\" class=\"dataframe\">\n",
       "  <thead>\n",
       "    <tr style=\"text-align: right;\">\n",
       "      <th></th>\n",
       "      <th>fAge</th>\n",
       "      <th>mAge</th>\n",
       "      <th>weeks</th>\n",
       "      <th>premature</th>\n",
       "      <th>visits</th>\n",
       "      <th>gained</th>\n",
       "      <th>weight</th>\n",
       "      <th>sexBaby</th>\n",
       "      <th>smoke</th>\n",
       "    </tr>\n",
       "  </thead>\n",
       "  <tbody>\n",
       "    <tr>\n",
       "      <th>0</th>\n",
       "      <td>31</td>\n",
       "      <td>30</td>\n",
       "      <td>39</td>\n",
       "      <td>full term</td>\n",
       "      <td>13</td>\n",
       "      <td>1</td>\n",
       "      <td>6.88</td>\n",
       "      <td>male</td>\n",
       "      <td>smoker</td>\n",
       "    </tr>\n",
       "    <tr>\n",
       "      <th>1</th>\n",
       "      <td>34</td>\n",
       "      <td>36</td>\n",
       "      <td>39</td>\n",
       "      <td>full term</td>\n",
       "      <td>5</td>\n",
       "      <td>35</td>\n",
       "      <td>7.69</td>\n",
       "      <td>male</td>\n",
       "      <td>nonsmoker</td>\n",
       "    </tr>\n",
       "    <tr>\n",
       "      <th>2</th>\n",
       "      <td>36</td>\n",
       "      <td>35</td>\n",
       "      <td>40</td>\n",
       "      <td>full term</td>\n",
       "      <td>12</td>\n",
       "      <td>29</td>\n",
       "      <td>8.88</td>\n",
       "      <td>male</td>\n",
       "      <td>nonsmoker</td>\n",
       "    </tr>\n",
       "    <tr>\n",
       "      <th>3</th>\n",
       "      <td>41</td>\n",
       "      <td>40</td>\n",
       "      <td>40</td>\n",
       "      <td>full term</td>\n",
       "      <td>13</td>\n",
       "      <td>30</td>\n",
       "      <td>9.00</td>\n",
       "      <td>female</td>\n",
       "      <td>nonsmoker</td>\n",
       "    </tr>\n",
       "    <tr>\n",
       "      <th>4</th>\n",
       "      <td>42</td>\n",
       "      <td>37</td>\n",
       "      <td>40</td>\n",
       "      <td>full term</td>\n",
       "      <td>NaN</td>\n",
       "      <td>10</td>\n",
       "      <td>7.94</td>\n",
       "      <td>male</td>\n",
       "      <td>nonsmoker</td>\n",
       "    </tr>\n",
       "  </tbody>\n",
       "</table>\n",
       "</div>"
      ],
      "text/plain": [
       "   fAge  mAge  weeks  premature  visits  gained  weight sexBaby      smoke\n",
       "0    31    30     39  full term      13       1    6.88    male     smoker\n",
       "1    34    36     39  full term       5      35    7.69    male  nonsmoker\n",
       "2    36    35     40  full term      12      29    8.88    male  nonsmoker\n",
       "3    41    40     40  full term      13      30    9.00  female  nonsmoker\n",
       "4    42    37     40  full term     NaN      10    7.94    male  nonsmoker"
      ]
     },
     "execution_count": 4,
     "metadata": {},
     "output_type": "execute_result"
    }
   ],
   "source": [
    "births.head()"
   ]
  },
  {
   "cell_type": "code",
   "execution_count": 5,
   "metadata": {
    "collapsed": false
   },
   "outputs": [
    {
     "data": {
      "text/plain": [
       "array(['full term', 'premie'], dtype=object)"
      ]
     },
     "execution_count": 5,
     "metadata": {},
     "output_type": "execute_result"
    }
   ],
   "source": [
    "# get unique element from a given column\n",
    "births.premature.unique()"
   ]
  },
  {
   "cell_type": "code",
   "execution_count": 6,
   "metadata": {
    "collapsed": false
   },
   "outputs": [
    {
     "data": {
      "text/plain": [
       "array(['smoker', 'nonsmoker'], dtype=object)"
      ]
     },
     "execution_count": 6,
     "metadata": {},
     "output_type": "execute_result"
    }
   ],
   "source": [
    "births.smoke.unique()"
   ]
  },
  {
   "cell_type": "code",
   "execution_count": 7,
   "metadata": {
    "collapsed": false
   },
   "outputs": [
    {
     "data": {
      "text/plain": [
       "1"
      ]
     },
     "execution_count": 7,
     "metadata": {},
     "output_type": "execute_result"
    }
   ],
   "source": [
    "# total number of \"null\" (NA, NaN) elements in a given column\n",
    "births.visits.isnull().sum()"
   ]
  },
  {
   "cell_type": "code",
   "execution_count": 8,
   "metadata": {
    "collapsed": false
   },
   "outputs": [
    {
     "data": {
      "text/plain": [
       "fAge         31\n",
       "mAge          0\n",
       "weeks         0\n",
       "premature     0\n",
       "visits        1\n",
       "gained        2\n",
       "weight        0\n",
       "sexBaby       0\n",
       "smoke         0\n",
       "dtype: int64"
      ]
     },
     "execution_count": 8,
     "metadata": {},
     "output_type": "execute_result"
    }
   ],
   "source": [
    "# total number of null elements for each column\n",
    "births.isnull().sum()"
   ]
  },
  {
   "cell_type": "code",
   "execution_count": 9,
   "metadata": {
    "collapsed": false
   },
   "outputs": [
    {
     "name": "stdout",
     "output_type": "stream",
     "text": [
      "Full term births: 129\n",
      "Premature births: 21\n"
     ]
    }
   ],
   "source": [
    "# ispremie and isfullterm are boolean pandas.Series whose length is the number \n",
    "# of rows in births\n",
    "ispremie = births.premature == \"premie\"\n",
    "isfullterm = births.premature == \"full term\"\n",
    "\n",
    "# can get number of Trues by summing boolean Series\n",
    "nfullterm = isfullterm.sum()\n",
    "npremie = ispremie.sum()\n",
    "\n",
    "print(\"Full term births:\", nfullterm)\n",
    "print(\"Premature births:\", npremie)"
   ]
  },
  {
   "cell_type": "code",
   "execution_count": 10,
   "metadata": {
    "collapsed": false
   },
   "outputs": [
    {
     "name": "stdout",
     "output_type": "stream",
     "text": [
      "Baby girls: 68\n",
      "Baby boys: 82\n"
     ]
    }
   ],
   "source": [
    "isgirl = births.sexBaby == \"female\"\n",
    "isboy = births.sexBaby == \"male\"\n",
    "\n",
    "# index into the birth DataFrame w/boolean Series, return new DataFrames\n",
    "babyGirls = births[isgirl]\n",
    "babyBoys = births[isboy]\n",
    "\n",
    "print(\"Baby girls:\", len(babyGirls))\n",
    "print(\"Baby boys:\", len(babyBoys))"
   ]
  },
  {
   "cell_type": "code",
   "execution_count": 11,
   "metadata": {
    "collapsed": false
   },
   "outputs": [
    {
     "name": "stdout",
     "output_type": "stream",
     "text": [
      "Premie girls: 8\n",
      "Premie boys: 13\n"
     ]
    }
   ],
   "source": [
    "# pandas.Series and numpy.array support bitwise and (&) and bitwise or (|) operators\n",
    "premieGirls = births[isgirl & ispremie]\n",
    "premieBoys = births[isboy & ispremie]\n",
    "\n",
    "print(\"Premie girls:\", len(premieGirls))\n",
    "print(\"Premie boys:\", len(premieBoys))"
   ]
  },
  {
   "cell_type": "code",
   "execution_count": 12,
   "metadata": {
    "collapsed": false
   },
   "outputs": [
    {
     "name": "stdout",
     "output_type": "stream",
     "text": [
      "Premie or Mom Smoked: 63\n"
     ]
    }
   ],
   "source": [
    "# use of bitwise or to get premature OR mother smoked\n",
    "momsmoked = births.smoke == \"smoker\"\n",
    "premieOrMomSmoked = births[ispremie | momsmoked]\n",
    "print(\"Premie or Mom Smoked:\", len(premieOrMomSmoked))"
   ]
  },
  {
   "cell_type": "code",
   "execution_count": 13,
   "metadata": {
    "collapsed": false
   },
   "outputs": [
    {
     "name": "stdout",
     "output_type": "stream",
     "text": [
      "a = [ True False  True]\n",
      "b = [False False  True]\n",
      "bitwise and, a & b =  [False False  True]\n",
      "bitwise or, a | b =  [ True False  True]\n"
     ]
    }
   ],
   "source": [
    "# demonstrating bitwise operations on numpy arrays\n",
    "a = np.array([True, False, True])\n",
    "b = np.array([False, False, True])\n",
    "print(\"a =\", a)\n",
    "print(\"b =\", b)\n",
    "print(\"bitwise and, a & b = \", a & b)\n",
    "print(\"bitwise or, a | b = \", a | b)"
   ]
  },
  {
   "cell_type": "markdown",
   "metadata": {},
   "source": [
    "## query\n",
    "\n",
    "The `DataFrame.query` method provides another interface for querying the columns of a DataFrame with a Boolean expression.  It is convenient because it allows for more compact expressions."
   ]
  },
  {
   "cell_type": "code",
   "execution_count": 18,
   "metadata": {
    "collapsed": false
   },
   "outputs": [
    {
     "data": {
      "text/html": [
       "<div>\n",
       "<table border=\"1\" class=\"dataframe\">\n",
       "  <thead>\n",
       "    <tr style=\"text-align: right;\">\n",
       "      <th></th>\n",
       "      <th>fAge</th>\n",
       "      <th>mAge</th>\n",
       "      <th>weeks</th>\n",
       "      <th>premature</th>\n",
       "      <th>visits</th>\n",
       "      <th>gained</th>\n",
       "      <th>weight</th>\n",
       "      <th>sexBaby</th>\n",
       "      <th>smoke</th>\n",
       "    </tr>\n",
       "  </thead>\n",
       "  <tbody>\n",
       "    <tr>\n",
       "      <th>7</th>\n",
       "      <td>28</td>\n",
       "      <td>21</td>\n",
       "      <td>35</td>\n",
       "      <td>premie</td>\n",
       "      <td>9</td>\n",
       "      <td>15</td>\n",
       "      <td>5.50</td>\n",
       "      <td>female</td>\n",
       "      <td>smoker</td>\n",
       "    </tr>\n",
       "    <tr>\n",
       "      <th>8</th>\n",
       "      <td>22</td>\n",
       "      <td>20</td>\n",
       "      <td>32</td>\n",
       "      <td>premie</td>\n",
       "      <td>5</td>\n",
       "      <td>40</td>\n",
       "      <td>2.69</td>\n",
       "      <td>male</td>\n",
       "      <td>smoker</td>\n",
       "    </tr>\n",
       "    <tr>\n",
       "      <th>18</th>\n",
       "      <td>28</td>\n",
       "      <td>27</td>\n",
       "      <td>33</td>\n",
       "      <td>premie</td>\n",
       "      <td>6</td>\n",
       "      <td>18</td>\n",
       "      <td>4.75</td>\n",
       "      <td>male</td>\n",
       "      <td>smoker</td>\n",
       "    </tr>\n",
       "    <tr>\n",
       "      <th>21</th>\n",
       "      <td>NaN</td>\n",
       "      <td>38</td>\n",
       "      <td>32</td>\n",
       "      <td>premie</td>\n",
       "      <td>10</td>\n",
       "      <td>16</td>\n",
       "      <td>2.19</td>\n",
       "      <td>female</td>\n",
       "      <td>smoker</td>\n",
       "    </tr>\n",
       "    <tr>\n",
       "      <th>46</th>\n",
       "      <td>30</td>\n",
       "      <td>25</td>\n",
       "      <td>35</td>\n",
       "      <td>premie</td>\n",
       "      <td>15</td>\n",
       "      <td>40</td>\n",
       "      <td>4.50</td>\n",
       "      <td>male</td>\n",
       "      <td>smoker</td>\n",
       "    </tr>\n",
       "    <tr>\n",
       "      <th>66</th>\n",
       "      <td>29</td>\n",
       "      <td>31</td>\n",
       "      <td>36</td>\n",
       "      <td>premie</td>\n",
       "      <td>8</td>\n",
       "      <td>42</td>\n",
       "      <td>5.94</td>\n",
       "      <td>male</td>\n",
       "      <td>smoker</td>\n",
       "    </tr>\n",
       "    <tr>\n",
       "      <th>125</th>\n",
       "      <td>NaN</td>\n",
       "      <td>18</td>\n",
       "      <td>33</td>\n",
       "      <td>premie</td>\n",
       "      <td>7</td>\n",
       "      <td>40</td>\n",
       "      <td>1.69</td>\n",
       "      <td>male</td>\n",
       "      <td>smoker</td>\n",
       "    </tr>\n",
       "    <tr>\n",
       "      <th>127</th>\n",
       "      <td>37</td>\n",
       "      <td>33</td>\n",
       "      <td>36</td>\n",
       "      <td>premie</td>\n",
       "      <td>11</td>\n",
       "      <td>15</td>\n",
       "      <td>6.31</td>\n",
       "      <td>male</td>\n",
       "      <td>smoker</td>\n",
       "    </tr>\n",
       "  </tbody>\n",
       "</table>\n",
       "</div>"
      ],
      "text/plain": [
       "     fAge  mAge  weeks premature  visits  gained  weight sexBaby   smoke\n",
       "7      28    21     35    premie       9      15    5.50  female  smoker\n",
       "8      22    20     32    premie       5      40    2.69    male  smoker\n",
       "18     28    27     33    premie       6      18    4.75    male  smoker\n",
       "21    NaN    38     32    premie      10      16    2.19  female  smoker\n",
       "46     30    25     35    premie      15      40    4.50    male  smoker\n",
       "66     29    31     36    premie       8      42    5.94    male  smoker\n",
       "125   NaN    18     33    premie       7      40    1.69    male  smoker\n",
       "127    37    33     36    premie      11      15    6.31    male  smoker"
      ]
     },
     "execution_count": 18,
     "metadata": {},
     "output_type": "execute_result"
    }
   ],
   "source": [
    "premieAndSmoke = births.query('(premature == \"premie\") and (smoke == \"smoker\")')\n",
    "premieAndSmoke"
   ]
  },
  {
   "cell_type": "markdown",
   "metadata": {},
   "source": [
    "## groupby\n",
    "\n",
    "The `DataFrame.groupby` method provides a convenient way to collapse data over categorical variables and create summary analyses."
   ]
  },
  {
   "cell_type": "code",
   "execution_count": 19,
   "metadata": {
    "collapsed": true
   },
   "outputs": [],
   "source": [
    "termgroup = births.groupby(\"premature\")"
   ]
  },
  {
   "cell_type": "code",
   "execution_count": 35,
   "metadata": {
    "collapsed": false
   },
   "outputs": [
    {
     "data": {
      "text/html": [
       "<div>\n",
       "<table border=\"1\" class=\"dataframe\">\n",
       "  <thead>\n",
       "    <tr style=\"text-align: right;\">\n",
       "      <th></th>\n",
       "      <th></th>\n",
       "      <th>fAge</th>\n",
       "      <th>mAge</th>\n",
       "      <th>weeks</th>\n",
       "      <th>visits</th>\n",
       "      <th>gained</th>\n",
       "      <th>weight</th>\n",
       "    </tr>\n",
       "    <tr>\n",
       "      <th>premature</th>\n",
       "      <th></th>\n",
       "      <th></th>\n",
       "      <th></th>\n",
       "      <th></th>\n",
       "      <th></th>\n",
       "      <th></th>\n",
       "      <th></th>\n",
       "    </tr>\n",
       "  </thead>\n",
       "  <tbody>\n",
       "    <tr>\n",
       "      <th rowspan=\"8\" valign=\"top\">full term</th>\n",
       "      <th>count</th>\n",
       "      <td>104.000000</td>\n",
       "      <td>129.000000</td>\n",
       "      <td>129.000000</td>\n",
       "      <td>128.000000</td>\n",
       "      <td>127.000000</td>\n",
       "      <td>129.000000</td>\n",
       "    </tr>\n",
       "    <tr>\n",
       "      <th>mean</th>\n",
       "      <td>29.961538</td>\n",
       "      <td>26.534884</td>\n",
       "      <td>39.403101</td>\n",
       "      <td>11.875000</td>\n",
       "      <td>33.755906</td>\n",
       "      <td>7.426357</td>\n",
       "    </tr>\n",
       "    <tr>\n",
       "      <th>std</th>\n",
       "      <td>6.154836</td>\n",
       "      <td>5.962181</td>\n",
       "      <td>1.518219</td>\n",
       "      <td>3.452718</td>\n",
       "      <td>15.531696</td>\n",
       "      <td>1.033136</td>\n",
       "    </tr>\n",
       "    <tr>\n",
       "      <th>min</th>\n",
       "      <td>17.000000</td>\n",
       "      <td>15.000000</td>\n",
       "      <td>37.000000</td>\n",
       "      <td>3.000000</td>\n",
       "      <td>0.000000</td>\n",
       "      <td>3.750000</td>\n",
       "    </tr>\n",
       "    <tr>\n",
       "      <th>25%</th>\n",
       "      <td>25.000000</td>\n",
       "      <td>22.000000</td>\n",
       "      <td>38.000000</td>\n",
       "      <td>10.000000</td>\n",
       "      <td>24.500000</td>\n",
       "      <td>6.880000</td>\n",
       "    </tr>\n",
       "    <tr>\n",
       "      <th>50%</th>\n",
       "      <td>30.000000</td>\n",
       "      <td>26.000000</td>\n",
       "      <td>39.000000</td>\n",
       "      <td>12.000000</td>\n",
       "      <td>32.000000</td>\n",
       "      <td>7.500000</td>\n",
       "    </tr>\n",
       "    <tr>\n",
       "      <th>75%</th>\n",
       "      <td>34.000000</td>\n",
       "      <td>31.000000</td>\n",
       "      <td>40.000000</td>\n",
       "      <td>15.000000</td>\n",
       "      <td>40.000000</td>\n",
       "      <td>8.130000</td>\n",
       "    </tr>\n",
       "    <tr>\n",
       "      <th>max</th>\n",
       "      <td>47.000000</td>\n",
       "      <td>40.000000</td>\n",
       "      <td>44.000000</td>\n",
       "      <td>19.000000</td>\n",
       "      <td>85.000000</td>\n",
       "      <td>10.130000</td>\n",
       "    </tr>\n",
       "    <tr>\n",
       "      <th rowspan=\"8\" valign=\"top\">premie</th>\n",
       "      <th>count</th>\n",
       "      <td>15.000000</td>\n",
       "      <td>21.000000</td>\n",
       "      <td>21.000000</td>\n",
       "      <td>21.000000</td>\n",
       "      <td>21.000000</td>\n",
       "      <td>21.000000</td>\n",
       "    </tr>\n",
       "    <tr>\n",
       "      <th>mean</th>\n",
       "      <td>28.533333</td>\n",
       "      <td>27.000000</td>\n",
       "      <td>33.285714</td>\n",
       "      <td>9.238095</td>\n",
       "      <td>24.571429</td>\n",
       "      <td>4.709524</td>\n",
       "    </tr>\n",
       "    <tr>\n",
       "      <th>std</th>\n",
       "      <td>6.151268</td>\n",
       "      <td>7.797435</td>\n",
       "      <td>2.777460</td>\n",
       "      <td>3.973723</td>\n",
       "      <td>14.358173</td>\n",
       "      <td>1.789926</td>\n",
       "    </tr>\n",
       "    <tr>\n",
       "      <th>min</th>\n",
       "      <td>17.000000</td>\n",
       "      <td>17.000000</td>\n",
       "      <td>26.000000</td>\n",
       "      <td>2.000000</td>\n",
       "      <td>0.000000</td>\n",
       "      <td>1.630000</td>\n",
       "    </tr>\n",
       "    <tr>\n",
       "      <th>25%</th>\n",
       "      <td>26.000000</td>\n",
       "      <td>21.000000</td>\n",
       "      <td>32.000000</td>\n",
       "      <td>6.000000</td>\n",
       "      <td>15.000000</td>\n",
       "      <td>3.630000</td>\n",
       "    </tr>\n",
       "    <tr>\n",
       "      <th>50%</th>\n",
       "      <td>28.000000</td>\n",
       "      <td>25.000000</td>\n",
       "      <td>34.000000</td>\n",
       "      <td>10.000000</td>\n",
       "      <td>23.000000</td>\n",
       "      <td>4.750000</td>\n",
       "    </tr>\n",
       "    <tr>\n",
       "      <th>75%</th>\n",
       "      <td>33.000000</td>\n",
       "      <td>33.000000</td>\n",
       "      <td>35.000000</td>\n",
       "      <td>13.000000</td>\n",
       "      <td>32.000000</td>\n",
       "      <td>5.940000</td>\n",
       "    </tr>\n",
       "    <tr>\n",
       "      <th>max</th>\n",
       "      <td>38.000000</td>\n",
       "      <td>41.000000</td>\n",
       "      <td>36.000000</td>\n",
       "      <td>15.000000</td>\n",
       "      <td>60.000000</td>\n",
       "      <td>7.810000</td>\n",
       "    </tr>\n",
       "  </tbody>\n",
       "</table>\n",
       "</div>"
      ],
      "text/plain": [
       "                       fAge        mAge       weeks      visits      gained  \\\n",
       "premature                                                                     \n",
       "full term count  104.000000  129.000000  129.000000  128.000000  127.000000   \n",
       "          mean    29.961538   26.534884   39.403101   11.875000   33.755906   \n",
       "          std      6.154836    5.962181    1.518219    3.452718   15.531696   \n",
       "          min     17.000000   15.000000   37.000000    3.000000    0.000000   \n",
       "          25%     25.000000   22.000000   38.000000   10.000000   24.500000   \n",
       "          50%     30.000000   26.000000   39.000000   12.000000   32.000000   \n",
       "          75%     34.000000   31.000000   40.000000   15.000000   40.000000   \n",
       "          max     47.000000   40.000000   44.000000   19.000000   85.000000   \n",
       "premie    count   15.000000   21.000000   21.000000   21.000000   21.000000   \n",
       "          mean    28.533333   27.000000   33.285714    9.238095   24.571429   \n",
       "          std      6.151268    7.797435    2.777460    3.973723   14.358173   \n",
       "          min     17.000000   17.000000   26.000000    2.000000    0.000000   \n",
       "          25%     26.000000   21.000000   32.000000    6.000000   15.000000   \n",
       "          50%     28.000000   25.000000   34.000000   10.000000   23.000000   \n",
       "          75%     33.000000   33.000000   35.000000   13.000000   32.000000   \n",
       "          max     38.000000   41.000000   36.000000   15.000000   60.000000   \n",
       "\n",
       "                     weight  \n",
       "premature                    \n",
       "full term count  129.000000  \n",
       "          mean     7.426357  \n",
       "          std      1.033136  \n",
       "          min      3.750000  \n",
       "          25%      6.880000  \n",
       "          50%      7.500000  \n",
       "          75%      8.130000  \n",
       "          max     10.130000  \n",
       "premie    count   21.000000  \n",
       "          mean     4.709524  \n",
       "          std      1.789926  \n",
       "          min      1.630000  \n",
       "          25%      3.630000  \n",
       "          50%      4.750000  \n",
       "          75%      5.940000  \n",
       "          max      7.810000  "
      ]
     },
     "execution_count": 35,
     "metadata": {},
     "output_type": "execute_result"
    }
   ],
   "source": [
    "# apply an summary function w/respect to the grouping\n",
    "termgroup.describe()"
   ]
  },
  {
   "cell_type": "code",
   "execution_count": 29,
   "metadata": {
    "collapsed": false
   },
   "outputs": [
    {
     "data": {
      "text/plain": [
       "pandas.core.groupby.DataFrameGroupBy"
      ]
     },
     "execution_count": 29,
     "metadata": {},
     "output_type": "execute_result"
    }
   ],
   "source": [
    "type(termgroup)"
   ]
  },
  {
   "cell_type": "code",
   "execution_count": 30,
   "metadata": {
    "collapsed": false
   },
   "outputs": [
    {
     "data": {
      "text/plain": [
       "dict"
      ]
     },
     "execution_count": 30,
     "metadata": {},
     "output_type": "execute_result"
    }
   ],
   "source": [
    "# the groupby object has a groups dictionary associated with it\n",
    "type(termgroup.groups)"
   ]
  },
  {
   "cell_type": "code",
   "execution_count": 31,
   "metadata": {
    "collapsed": false
   },
   "outputs": [
    {
     "data": {
      "text/plain": [
       "dict_keys(['premie', 'full term'])"
      ]
     },
     "execution_count": 31,
     "metadata": {},
     "output_type": "execute_result"
    }
   ],
   "source": [
    "# the keys of this dictionary are the actual grouping terms\n",
    "termgroup.groups.keys()"
   ]
  },
  {
   "cell_type": "code",
   "execution_count": 33,
   "metadata": {
    "collapsed": false
   },
   "outputs": [
    {
     "data": {
      "text/plain": [
       "(pandas.core.frame.DataFrame, (21, 9))"
      ]
     },
     "execution_count": 33,
     "metadata": {},
     "output_type": "execute_result"
    }
   ],
   "source": [
    "# get a specific group\n",
    "premies = termgroup.get_group('premie')\n",
    "type(premies),premies.shape"
   ]
  },
  {
   "cell_type": "markdown",
   "metadata": {},
   "source": [
    "### Grouping on multiple variables simultaneously"
   ]
  },
  {
   "cell_type": "code",
   "execution_count": 36,
   "metadata": {
    "collapsed": false
   },
   "outputs": [],
   "source": [
    "term_and_smoke_group = births.groupby([\"premature\", \"smoke\"])"
   ]
  },
  {
   "cell_type": "code",
   "execution_count": 37,
   "metadata": {
    "collapsed": false
   },
   "outputs": [
    {
     "data": {
      "text/plain": [
       "dict_keys([('premie', 'nonsmoker'), ('premie', 'smoker'), ('full term', 'nonsmoker'), ('full term', 'smoker')])"
      ]
     },
     "execution_count": 37,
     "metadata": {},
     "output_type": "execute_result"
    }
   ],
   "source": [
    "term_and_smoke_group.groups.keys()"
   ]
  },
  {
   "cell_type": "code",
   "execution_count": 38,
   "metadata": {
    "collapsed": false
   },
   "outputs": [
    {
     "data": {
      "text/plain": [
       "premature  smoke           \n",
       "full term  nonsmoker  count    87.000000\n",
       "                      mean      7.501379\n",
       "                      std       1.055419\n",
       "                      min       3.750000\n",
       "                      25%       6.880000\n",
       "                      50%       7.500000\n",
       "                      75%       8.160000\n",
       "                      max      10.130000\n",
       "           smoker     count    42.000000\n",
       "                      mean      7.270952\n",
       "                      std       0.979337\n",
       "                      min       5.000000\n",
       "                      25%       6.562500\n",
       "                      50%       7.310000\n",
       "                      75%       7.985000\n",
       "                      max       9.130000\n",
       "premie     nonsmoker  count    13.000000\n",
       "                      mean      5.025385\n",
       "                      std       1.790943\n",
       "                      min       1.630000\n",
       "                      25%       3.750000\n",
       "                      50%       5.060000\n",
       "                      75%       6.500000\n",
       "                      max       7.810000\n",
       "           smoker     count     8.000000\n",
       "                      mean      4.196250\n",
       "                      std       1.780144\n",
       "                      min       1.690000\n",
       "                      25%       2.565000\n",
       "                      50%       4.625000\n",
       "                      75%       5.610000\n",
       "                      max       6.310000\n",
       "dtype: float64"
      ]
     },
     "execution_count": 38,
     "metadata": {},
     "output_type": "execute_result"
    }
   ],
   "source": [
    "term_and_smoke_group.weight.describe()"
   ]
  },
  {
   "cell_type": "markdown",
   "metadata": {},
   "source": [
    "# Matplotlib: an object oriented approach\n",
    "\n",
    "Up to now we've been mostly using what is a \"function based\" approach to Matlotlib, where we build up a plot by a series of function calls.  This works pretty well, but starts to break down when we want to create more complicated plots.  There's another way to approach plot-building in Matplotlib, built around manipulation of `figure` and `axis` objects.  I demonstrate these two styles of plot-building below."
   ]
  },
  {
   "cell_type": "markdown",
   "metadata": {},
   "source": [
    "### Function based approach to Matplotlib\n",
    "Here's an example of the \"function based\" approach. Notice that we call four functions in succession: `scatter`, `xlabel`, `ylabel`, and `title`."
   ]
  },
  {
   "cell_type": "code",
   "execution_count": 30,
   "metadata": {
    "collapsed": false
   },
   "outputs": [
    {
     "data": {
      "image/png": "[encoded data removed]",
      "text/plain": [
       "<matplotlib.figure.Figure at 0x7f0e7a6fd4e0>"
      ]
     },
     "metadata": {},
     "output_type": "display_data"
    }
   ],
   "source": [
    "plt.scatter(births.mAge, births.fAge)\n",
    "plt.xlabel(\"Age of Mother\")\n",
    "plt.ylabel(\"Age of Father\")\n",
    "plt.title(\"Relationship between Age of Parents\\nBased on 150 births from NC\")\n",
    "pass"
   ]
  },
  {
   "cell_type": "markdown",
   "metadata": {},
   "source": [
    "### Object oriented approach to Matplotlib\n",
    "\n",
    "Here's the same plot, created using an object oriented approach.  I build it up step by step so you can see that the figure and axis objects stand on their own."
   ]
  },
  {
   "cell_type": "code",
   "execution_count": 31,
   "metadata": {
    "collapsed": false
   },
   "outputs": [
    {
     "data": {
      "image/png": "[encoded data removed]",
      "text/plain": [
       "<matplotlib.figure.Figure at 0x7f0e77e4f3c8>"
      ]
     },
     "metadata": {},
     "output_type": "display_data"
    }
   ],
   "source": [
    "# create just the figure and axis objects\n",
    "fig = plt.figure()\n",
    "axes = fig.add_axes([0.1, 0.1, 0.8, 0.8]) # left, bottom, width, height"
   ]
  },
  {
   "cell_type": "code",
   "execution_count": 32,
   "metadata": {
    "collapsed": false
   },
   "outputs": [
    {
     "data": {
      "image/png": "[encoded data removed]",
      "text/plain": [
       "<matplotlib.figure.Figure at 0x7f0e77e269b0>"
      ]
     },
     "metadata": {},
     "output_type": "display_data"
    }
   ],
   "source": [
    "# create our figure and axis objects\n",
    "fig = plt.figure()\n",
    "axes = fig.add_axes([0.1, 0.1, 0.8, 0.8]) # left, bottom, width, height\n",
    "\n",
    "# change/add features of axis\n",
    "axes.scatter(births.mAge, births.fAge)\n",
    "axes.set_xlabel(\"Age of Mother\")\n",
    "axes.set_ylabel(\"Age of Father\")\n",
    "axes.set_title(\"Relationship between Age of Parents\\nBased on 150 births from NC\")\n",
    "\n",
    "pass"
   ]
  },
  {
   "cell_type": "markdown",
   "metadata": {},
   "source": [
    "### Creating a new visualization\n",
    "\n",
    "Above we recreated the scatter plot using the object oriented approach, but the code was somewhat more verbose. However, the object oriented approach really starts to shine when we want to start tweaking the figure and adding new elements.  Here I'll recreate the scatter plot and then add two new axes, depicting the marginal histograms on the top and right side."
   ]
  },
  {
   "cell_type": "code",
   "execution_count": 45,
   "metadata": {
    "collapsed": false
   },
   "outputs": [
    {
     "data": {
      "image/png": "[encoded data removed]",
      "text/plain": [
       "<matplotlib.figure.Figure at 0x7f0e776a2eb8>"
      ]
     },
     "metadata": {},
     "output_type": "display_data"
    }
   ],
   "source": [
    "# create our figure and axis objects\n",
    "fig = plt.figure(figsize=(6,6))\n",
    "\n",
    "# note that we've made the main axis take up less of the total figure \n",
    "axes = fig.add_axes([0.1, 0.1, 0.5, 0.5]) # left, bottom, width, height\n",
    "\n",
    "# change/add features of axis\n",
    "axes.scatter(births.mAge, births.fAge)\n",
    "axes.set_xlabel(\"Age of Mother\")\n",
    "axes.set_ylabel(\"Age of Father\")\n",
    "axes.set_xlim(10,50)\n",
    "axes.set_ylim(10,50)\n",
    "\n",
    "# add new axis on right of figure to draw histogram of father's age\n",
    "# I figured these out the  coordinates and width by sketching and trial and error\n",
    "right = fig.add_axes([0.7, 0.1, 0.15, 0.5])  \n",
    "right.hist(births.fAge[births.fAge.notnull()], orientation=\"horizontal\", normed=True)\n",
    "right.set_xticks([])\n",
    "right.set_ylim(10,50)  # for figure to be accurate, these limits must match main figure limits\n",
    "\n",
    "# add new axis on top of figure to draw histogram of mother's age\n",
    "above = fig.add_axes([0.1, 0.7, 0.5, 0.15])\n",
    "above.hist(births.fAge[births.fAge.notnull()], orientation=\"vertical\", normed=True)\n",
    "above.set_yticks([])\n",
    "above.set_xlim(10,50)\n",
    "\n",
    "pass"
   ]
  },
  {
   "cell_type": "markdown",
   "metadata": {},
   "source": [
    "### More on the Matplotlib object oriented approach\n",
    "\n",
    "For more details and a longer exposition of this object oriented approach to matplotlib see this [tutorial by J. R. Johannson](http://nbviewer.jupyter.org/github/jrjohansson/scientific-python-lectures/blob/master/Lecture-4-Matplotlib.ipynb)."
   ]
  },
  {
   "cell_type": "markdown",
   "metadata": {},
   "source": [
    "## Seaborn: A statistical data visualization library"
   ]
  },
  {
   "cell_type": "code",
   "execution_count": 15,
   "metadata": {
    "collapsed": true
   },
   "outputs": [],
   "source": [
    "import seaborn as sbn"
   ]
  },
  {
   "cell_type": "code",
   "execution_count": 17,
   "metadata": {
    "collapsed": false
   },
   "outputs": [
    {
     "data": {
      "image/png": "[encoded data removed]",
      "text/plain": [
       "<matplotlib.figure.Figure at 0x7f4d9ff94940>"
      ]
     },
     "metadata": {},
     "output_type": "display_data"
    }
   ],
   "source": [
    "sbn.distplot(births.weight, color='r')\n",
    "pass"
   ]
  },
  {
   "cell_type": "markdown",
   "metadata": {},
   "source": [
    "### Density plots"
   ]
  },
  {
   "cell_type": "code",
   "execution_count": 13,
   "metadata": {
    "collapsed": false
   },
   "outputs": [
    {
     "data": {
      "image/png": "[encoded data removed]",
      "text/plain": [
       "<matplotlib.figure.Figure at 0x7f96f3689eb8>"
      ]
     },
     "metadata": {},
     "output_type": "display_data"
    }
   ],
   "source": [
    "# Plot a histogram with a kernel density estimate (kde)\n",
    "ax = sns.distplot(births.weight, color=\"r\")\n",
    "ax.set_ylabel(\"Density\")\n",
    "pass"
   ]
  },
  {
   "cell_type": "code",
   "execution_count": 15,
   "metadata": {
    "collapsed": false
   },
   "outputs": [
    {
     "data": {
      "image/png": "[encoded data removed]",
      "text/plain": [
       "<matplotlib.figure.Figure at 0x7f96f33f1e10>"
      ]
     },
     "metadata": {},
     "output_type": "display_data"
    }
   ],
   "source": [
    "# Plot a kde with a rug plot\n",
    "ax = sns.distplot(births.weight, hist=False, rug=True, color=\"r\")\n",
    "ax.set_ylabel(\"Density\")\n",
    "pass"
   ]
  },
  {
   "cell_type": "markdown",
   "metadata": {},
   "source": [
    "Kernel Density Estimates have a parameter called \"band-width\" which controls the degree of smoothing."
   ]
  },
  {
   "cell_type": "code",
   "execution_count": 22,
   "metadata": {
    "collapsed": false
   },
   "outputs": [
    {
     "data": {
      "text/plain": [
       "<matplotlib.text.Text at 0x7f96f2d36588>"
      ]
     },
     "execution_count": 22,
     "metadata": {},
     "output_type": "execute_result"
    },
    {
     "data": {
      "image/png": "[encoded data removed]",
      "text/plain": [
       "<matplotlib.figure.Figure at 0x7f96f2d71358>"
      ]
     },
     "metadata": {},
     "output_type": "display_data"
    }
   ],
   "source": [
    "sns.kdeplot(births.weight, bw=0.1, label='bw = 0.1')\n",
    "sns.kdeplot(births.weight, bw=0.25, label='bw = 0.25')\n",
    "sns.kdeplot(births.weight, bw=0.5, label='bw = 0.5')\n",
    "sns.rugplot(births.weight, color='black')\n",
    "plt.xlabel(\"Weight\")\n",
    "plt.ylabel(\"Density\")\n",
    "pass"
   ]
  },
  {
   "cell_type": "code",
   "execution_count": 34,
   "metadata": {
    "collapsed": false
   },
   "outputs": [
    {
     "data": {
      "image/png": "[encoded data removed]",
      "text/plain": [
       "<matplotlib.figure.Figure at 0x7f96f2ab09e8>"
      ]
     },
     "metadata": {},
     "output_type": "display_data"
    }
   ],
   "source": [
    "sns.set(style=\"whitegrid\", palette=\"pastel\", color_codes=True)\n",
    "sns.violinplot(x=\"premature\", y=\"weight\", hue=\"smoke\", data=births, split=True,\n",
    "               inner='quartile',\n",
    "               palette={\"smoker\": \"b\", \"nonsmoker\": \"y\"})\n",
    "plt.legend(loc='upper center')\n",
    "pass"
   ]
  },
  {
   "cell_type": "code",
   "execution_count": null,
   "metadata": {
    "collapsed": true
   },
   "outputs": [],
   "source": []
  }
 ],
 "metadata": {
  "kernelspec": {
   "display_name": "Python 3",
   "language": "python",
   "name": "python3"
  },
  "language_info": {
   "codemirror_mode": {
    "name": "ipython",
    "version": 3
   },
   "file_extension": ".py",
   "mimetype": "text/x-python",
   "name": "python",
   "nbconvert_exporter": "python",
   "pygments_lexer": "ipython3",
   "version": "3.5.1"
  }
 },
 "nbformat": 4,
 "nbformat_minor": 0
}
