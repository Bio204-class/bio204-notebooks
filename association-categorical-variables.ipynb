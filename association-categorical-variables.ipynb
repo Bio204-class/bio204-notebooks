{
 "cells": [
  {
   "cell_type": "markdown",
   "metadata": {},
   "source": [
    "# Association Between Categorical Variables\n",
    "\n",
    "A standard approach for testing the independence/dependence of a pair of categorical variables is to use a $\\chi^2$ (Chi-square) test of independence. \n",
    "\n",
    "The null and alternative hypotheses for the $\\chi^2$ test are as follows:\n",
    "\n",
    "* $H_0$: the two categorical variables are independent\n",
    "* $H_A$: the two categorical variables are dependent\n",
    "\n",
    "## Contingency tables of observed counts\n",
    "\n",
    "We typically depict the relationship between categorical variables using a \"contingency table\".\n",
    "\n",
    "|       | B1                  | B2                  | Total                               |\n",
    "|-------|---------------------|---------------------|-------------------------------------|\n",
    "| A1    | $O_{11}$            | $O_{12}$            | $O_{11}$+$O_{12}$                   |\n",
    "| A2    | $O_{21}$            | $O_{22}$            | $O_{12}$+$O_{22}$                   |\n",
    "| Total | $O_{11}$+$O_{21}$   | $O_{12}$+$O_{22}$   | $O_{11}$+$O_{12}$+$O_{12}$+$O_{22}$ |\n",
    "\n",
    "The rows and columns indicate the different categories for variables A and B respectively, and the cells, $O_{ij}$, give the counts of the number of observations for the corresponding combination of A and B.  For example, the cell $O_{11}$ gives the number of observations that that belong to both the category A1 and B1, while $O_{12}$ gives the number that are both A1 and B2, etc."
   ]
  },
  {
   "cell_type": "code",
   "execution_count": 1,
   "metadata": {
    "collapsed": true
   },
   "outputs": [],
   "source": [
    "%matplotlib inline\n",
    "import numpy as np\n",
    "import scipy.stats as stats\n",
    "import pandas as pd\n",
    "import matplotlib.pyplot as plt\n",
    "import seaborn as sbn"
   ]
  },
  {
   "cell_type": "code",
   "execution_count": 9,
   "metadata": {
    "collapsed": false
   },
   "outputs": [],
   "source": [
    "# load the bumpus dat set\n",
    "dataurl = \"https://github.com/Bio204-class/bio204-datasets/raw/master/bumpus-data.txt\"\n",
    "bumpus = pd.read_table(dataurl)\n",
    "\n",
    "# for clarity of presentation let's replace the sex designation \"m\",\"f\" with \"male\",\"female\"\n",
    "bumpus.sex.replace(dict(m=\"male\", f=\"female\"), inplace=True)\n",
    "\n",
    "# similarly replace survived variables\"F\",\"T\" with \"False\" and \"True\"\n",
    "bumpus.survived.replace(dict(F=False, T=True), inplace=True)\n"
   ]
  },
  {
   "cell_type": "code",
   "execution_count": 22,
   "metadata": {
    "collapsed": false
   },
   "outputs": [
    {
     "name": "stdout",
     "output_type": "stream",
     "text": [
      "Table of observed counts\n"
     ]
    },
    {
     "data": {
      "text/html": [
       "<div>\n",
       "<table border=\"1\" class=\"dataframe\">\n",
       "  <thead>\n",
       "    <tr style=\"text-align: right;\">\n",
       "      <th>sex</th>\n",
       "      <th>female</th>\n",
       "      <th>male</th>\n",
       "      <th>All</th>\n",
       "    </tr>\n",
       "    <tr>\n",
       "      <th>survived</th>\n",
       "      <th></th>\n",
       "      <th></th>\n",
       "      <th></th>\n",
       "    </tr>\n",
       "  </thead>\n",
       "  <tbody>\n",
       "    <tr>\n",
       "      <th>False</th>\n",
       "      <td>28</td>\n",
       "      <td>36</td>\n",
       "      <td>64</td>\n",
       "    </tr>\n",
       "    <tr>\n",
       "      <th>True</th>\n",
       "      <td>21</td>\n",
       "      <td>51</td>\n",
       "      <td>72</td>\n",
       "    </tr>\n",
       "    <tr>\n",
       "      <th>All</th>\n",
       "      <td>49</td>\n",
       "      <td>87</td>\n",
       "      <td>136</td>\n",
       "    </tr>\n",
       "  </tbody>\n",
       "</table>\n",
       "</div>"
      ],
      "text/plain": [
       "sex       female  male  All\n",
       "survived                   \n",
       "False         28    36   64\n",
       "True          21    51   72\n",
       "All           49    87  136"
      ]
     },
     "execution_count": 22,
     "metadata": {},
     "output_type": "execute_result"
    }
   ],
   "source": [
    "# Construct a contingency table for the sex and survival categorical variables.\n",
    "# The pandas.crosstab function will create the contingency table\n",
    "# if margins = True, will including row, column, and overall sums in table\n",
    "# if margins = False only includes the the joint counts\n",
    "observed = pd.crosstab(bumpus.survived, bumpus.sex, margins=True)\n",
    "\n",
    "print(\"Table of observed counts\")\n",
    "observed"
   ]
  },
  {
   "cell_type": "code",
   "execution_count": 82,
   "metadata": {
    "collapsed": false
   },
   "outputs": [
    {
     "data": {
      "text/plain": [
       "(49, 87)"
      ]
     },
     "execution_count": 82,
     "metadata": {},
     "output_type": "execute_result"
    }
   ],
   "source": [
    "np.sum(bumpus.sex == \"female\"), np.sum(bumpus.sex == \"male\")"
   ]
  },
  {
   "cell_type": "markdown",
   "metadata": {},
   "source": [
    "## Expected counts\n",
    "\n",
    "If the two categorical variables were independent than we would expect that the count in each cell of the contigency table to equal the product of the marginal probalities times the total number of observations."
   ]
  },
  {
   "cell_type": "code",
   "execution_count": 12,
   "metadata": {
    "collapsed": false
   },
   "outputs": [
    {
     "name": "stdout",
     "output_type": "stream",
     "text": [
      "Table of Expected Counts\n"
     ]
    },
    {
     "data": {
      "text/html": [
       "<div>\n",
       "<table border=\"1\" class=\"dataframe\">\n",
       "  <thead>\n",
       "    <tr style=\"text-align: right;\">\n",
       "      <th>sex</th>\n",
       "      <th>female</th>\n",
       "      <th>male</th>\n",
       "      <th>All</th>\n",
       "    </tr>\n",
       "    <tr>\n",
       "      <th>survived</th>\n",
       "      <th></th>\n",
       "      <th></th>\n",
       "      <th></th>\n",
       "    </tr>\n",
       "  </thead>\n",
       "  <tbody>\n",
       "    <tr>\n",
       "      <th>False</th>\n",
       "      <td>23.058824</td>\n",
       "      <td>40.941176</td>\n",
       "      <td>64</td>\n",
       "    </tr>\n",
       "    <tr>\n",
       "      <th>True</th>\n",
       "      <td>25.941176</td>\n",
       "      <td>46.058824</td>\n",
       "      <td>72</td>\n",
       "    </tr>\n",
       "    <tr>\n",
       "      <th>All</th>\n",
       "      <td>49.000000</td>\n",
       "      <td>87.000000</td>\n",
       "      <td>136</td>\n",
       "    </tr>\n",
       "  </tbody>\n",
       "</table>\n",
       "</div>"
      ],
      "text/plain": [
       "sex          female       male  All\n",
       "survived                           \n",
       "False     23.058824  40.941176   64\n",
       "True      25.941176  46.058824   72\n",
       "All       49.000000  87.000000  136"
      ]
     },
     "execution_count": 12,
     "metadata": {},
     "output_type": "execute_result"
    }
   ],
   "source": [
    "nobs = observed.ix['All','All']\n",
    "\n",
    "prob_female = observed.ix['All','female']/nobs\n",
    "prob_male = observed.ix['All', 'male']/nobs\n",
    "\n",
    "prob_surv = observed.ix[True, 'All']/nobs\n",
    "prob_died = observed.ix[False, 'All']/nobs\n",
    "\n",
    "expected_counts = []\n",
    "for i in (prob_died, prob_surv):\n",
    "    row = []\n",
    "    for j in (prob_female, prob_male):\n",
    "        row.append(i * j * nobs)\n",
    "    expected_counts.append(row + [np.sum(row)])\n",
    "expected_counts.append(np.sum(expected_counts,axis=0).tolist())\n",
    "\n",
    "expected = pd.DataFrame(expected_counts, index=observed.index, columns=observed.columns)\n",
    "\n",
    "print(\"Table of Expected Counts\")\n",
    "expected"
   ]
  },
  {
   "cell_type": "markdown",
   "metadata": {},
   "source": [
    "## Difference between Observed and Expected counts\n",
    "Since the  margins of the table (the row and column labeled \"All\") are the same for both the observed and expected counts, let's work with just the inner cells of the table."
   ]
  },
  {
   "cell_type": "code",
   "execution_count": 18,
   "metadata": {
    "collapsed": false
   },
   "outputs": [],
   "source": [
    "Observed = observed.ix[:-1, :-1]  # take all but the last row and colum \n",
    "Expected = expected.ix[:-1, :-1]  # as above"
   ]
  },
  {
   "cell_type": "code",
   "execution_count": 51,
   "metadata": {
    "collapsed": false
   },
   "outputs": [
    {
     "data": {
      "text/html": [
       "<h3>Observed Counts</h3>\n",
       "\n",
       "<table border=\"1\" class=\"dataframe\">\n",
       "  <thead>\n",
       "    <tr style=\"text-align: right;\">\n",
       "      <th>sex</th>\n",
       "      <th>female</th>\n",
       "      <th>male</th>\n",
       "    </tr>\n",
       "    <tr>\n",
       "      <th>survived</th>\n",
       "      <th></th>\n",
       "      <th></th>\n",
       "    </tr>\n",
       "  </thead>\n",
       "  <tbody>\n",
       "    <tr>\n",
       "      <th>False</th>\n",
       "      <td>28</td>\n",
       "      <td>36</td>\n",
       "    </tr>\n",
       "    <tr>\n",
       "      <th>True</th>\n",
       "      <td>21</td>\n",
       "      <td>51</td>\n",
       "    </tr>\n",
       "  </tbody>\n",
       "</table>\n",
       "\n",
       "<h3>Expected Counts</h3>\n",
       "\n",
       "<table border=\"1\" class=\"dataframe\">\n",
       "  <thead>\n",
       "    <tr style=\"text-align: right;\">\n",
       "      <th>sex</th>\n",
       "      <th>female</th>\n",
       "      <th>male</th>\n",
       "    </tr>\n",
       "    <tr>\n",
       "      <th>survived</th>\n",
       "      <th></th>\n",
       "      <th></th>\n",
       "    </tr>\n",
       "  </thead>\n",
       "  <tbody>\n",
       "    <tr>\n",
       "      <th>False</th>\n",
       "      <td>23.06</td>\n",
       "      <td>40.94</td>\n",
       "    </tr>\n",
       "    <tr>\n",
       "      <th>True</th>\n",
       "      <td>25.94</td>\n",
       "      <td>46.06</td>\n",
       "    </tr>\n",
       "  </tbody>\n",
       "</table>"
      ],
      "text/plain": [
       "<IPython.core.display.HTML object>"
      ]
     },
     "execution_count": 51,
     "metadata": {},
     "output_type": "execute_result"
    }
   ],
   "source": [
    "# This code cell just shows how you can do some fancy HTML output\n",
    "# from Jupyter code cells.  Here I wanted to output both observed and expected\n",
    "# count tables in the same cell with some nicely formatted headers.\n",
    "# This is purely for presentation, we're not doing an analysis here.\n",
    "\n",
    "from IPython.display import display, HTML\n",
    "\n",
    "def fmt(x):\n",
    "    return \"{:04.2f}\".format(x)\n",
    "\n",
    "Obs_as_html = Observed.to_html(float_format=fmt)\n",
    "Exp_as_html = Expected.to_html(float_format=fmt)\n",
    "\n",
    "HTML(\"<h3>Observed Counts</h3>\\n\\n\" + Obs_as_html + \"\\n\\n\" +\n",
    "     \"<h3>Expected Counts</h3>\\n\\n\" + Exp_as_html)"
   ]
  },
  {
   "cell_type": "markdown",
   "metadata": {},
   "source": [
    "We can quantify the difference between the observed counts and expected counts on a per cell basis using something which is essentially a squared deviation (but for counts rather than values of a random variate) normalized by the expectation."
   ]
  },
  {
   "cell_type": "code",
   "execution_count": 57,
   "metadata": {
    "collapsed": false
   },
   "outputs": [
    {
     "data": {
      "text/html": [
       "<div>\n",
       "<table border=\"1\" class=\"dataframe\">\n",
       "  <thead>\n",
       "    <tr style=\"text-align: right;\">\n",
       "      <th>sex</th>\n",
       "      <th>female</th>\n",
       "      <th>male</th>\n",
       "    </tr>\n",
       "    <tr>\n",
       "      <th>survived</th>\n",
       "      <th></th>\n",
       "      <th></th>\n",
       "    </tr>\n",
       "  </thead>\n",
       "  <tbody>\n",
       "    <tr>\n",
       "      <th>False</th>\n",
       "      <td>1.058824</td>\n",
       "      <td>0.596349</td>\n",
       "    </tr>\n",
       "    <tr>\n",
       "      <th>True</th>\n",
       "      <td>0.941176</td>\n",
       "      <td>0.530088</td>\n",
       "    </tr>\n",
       "  </tbody>\n",
       "</table>\n",
       "</div>"
      ],
      "text/plain": [
       "sex         female      male\n",
       "survived                    \n",
       "False     1.058824  0.596349\n",
       "True      0.941176  0.530088"
      ]
     },
     "execution_count": 57,
     "metadata": {},
     "output_type": "execute_result"
    }
   ],
   "source": [
    "diff_squared = (Observed-Expected)**2/Expected\n",
    "diff_squared"
   ]
  },
  {
   "cell_type": "markdown",
   "metadata": {},
   "source": [
    "## The $\\chi^2$-statistic\n",
    "\n",
    "We can calculate a new test statistic, we'll call $\\chi^2$ (chi-squared), as the sum of\n",
    "\n",
    "\\begin{align}\n",
    "\\chi^2 &= \\frac{(O_{11} - E_{11})^2}{E_{11}} + \\frac{(O_{12} - E_{12})^2}{E_{12}} + \\cdots + \\frac{(O_{mn} - E_{mn})^2}{E_{mn}} \\\\\n",
    "\\\\\n",
    "&= \\sum_{i=1}^{m}\\sum_{j=1}^{n} \\frac{(O_{ij} - E_{ij})^2}{E_{ij}}\n",
    "\\end{align}\n",
    "\n",
    "where $m$ and $n$ are the number of categories of the two variables under consideration."
   ]
  },
  {
   "cell_type": "code",
   "execution_count": 60,
   "metadata": {
    "collapsed": false
   },
   "outputs": [
    {
     "name": "stdout",
     "output_type": "stream",
     "text": [
      "Chi-squared 3.12643678161\n"
     ]
    }
   ],
   "source": [
    "# cast to matrix so we can calculate sum across all cells\n",
    "chi2 = np.sum(diff_squared.as_matrix())  \n",
    "\n",
    "print(\"Chi-squared\", chi2)"
   ]
  },
  {
   "cell_type": "markdown",
   "metadata": {},
   "source": [
    "We can think of the $\\chi^2$-statistic as the sum of the normalized squared differences between observed and expected counts (where each cell is normalized by the expected counts)."
   ]
  },
  {
   "cell_type": "markdown",
   "metadata": {},
   "source": [
    "\n",
    "## The $\\chi^2$-distribution\n",
    "\n",
    "Under the null hypothesis that the categorical variables are independent the $\\chi^2$-statistic has a sampling distribution called the $\\chi^2$-distribution.  The $\\chi^2$-distribution takes a single parameter, degree of freedom (df), which for the $\\chi^2$ test of independence is equal to $(m-1)(n-1)$ where $m$ and $n$ are the number of categories in the two variables.\n"
   ]
  },
  {
   "cell_type": "code",
   "execution_count": 72,
   "metadata": {
    "collapsed": false
   },
   "outputs": [
    {
     "data": {
      "image/png": "[encoded data removed]",
      "text/plain": [
       "<matplotlib.figure.Figure at 0x11a95f940>"
      ]
     },
     "metadata": {},
     "output_type": "display_data"
    }
   ],
   "source": [
    "x = np.linspace(0,8,300)\n",
    "\n",
    "chi2_df1_pdf = stats.chi2.pdf(x, df=1) \n",
    "chi2_df2_pdf = stats.chi2.pdf(x, df=2)\n",
    "chi2_df3_pdf = stats.chi2.pdf(x, df=3)\n",
    "chi2_df4_pdf = stats.chi2.pdf(x, df=4)\n",
    "chi2_df5_pdf = stats.chi2.pdf(x, df=5)\n",
    "\n",
    "plt.plot(x, chi2_df1_pdf, label=\"df = 1\")\n",
    "plt.plot(x, chi2_df2_pdf, label=\"df = 2\")\n",
    "plt.plot(x, chi2_df3_pdf, label=\"df = 3\")\n",
    "plt.plot(x, chi2_df4_pdf, label=\"df = 4\")\n",
    "plt.plot(x, chi2_df5_pdf, label=\"df = 5\")\n",
    "\n",
    "plt.xlabel('$\\chi^2$')\n",
    "plt.ylabel('Density')\n",
    "plt.ylim(0,1)  # note this will cut off the curve for df=1\n",
    "plt.legend()\n",
    "pass"
   ]
  },
  {
   "cell_type": "code",
   "execution_count": 79,
   "metadata": {
    "collapsed": false
   },
   "outputs": [
    {
     "data": {
      "image/png": "[encoded data removed]",
      "text/plain": [
       "<matplotlib.figure.Figure at 0x11add6e80>"
      ]
     },
     "metadata": {},
     "output_type": "display_data"
    }
   ],
   "source": [
    "x = np.linspace(0,8,300)\n",
    "\n",
    "chi2_df1_pdf = stats.chi2.pdf(x, df=1) \n",
    "chi2_df2_pdf = stats.chi2.pdf(x, df=2)\n",
    "chi2_df3_pdf = stats.chi2.pdf(x, df=3)\n",
    "chi2_df4_pdf = stats.chi2.pdf(x, df=4)\n",
    "chi2_df5_pdf = stats.chi2.pdf(x, df=5)\n",
    "\n",
    "plt.plot(x, chi2_df1_pdf, label=\"df = 1\")\n",
    "\n",
    "\n",
    "plt.xlabel('$\\chi^2$')\n",
    "plt.ylabel('Density')\n",
    "plt.legend()\n",
    "pass"
   ]
  },
  {
   "cell_type": "markdown",
   "metadata": {},
   "source": [
    "For our bumpus example, the degrees of freedom is df=1. We can calculate the corresponding p-value for our sample chi2 value of ~3.13."
   ]
  },
  {
   "cell_type": "code",
   "execution_count": 75,
   "metadata": {
    "collapsed": false
   },
   "outputs": [
    {
     "data": {
      "text/plain": [
       "0.077031938117561066"
      ]
     },
     "execution_count": 75,
     "metadata": {},
     "output_type": "execute_result"
    }
   ],
   "source": [
    "stats.chi2.sf(chi2, df=1)"
   ]
  },
  {
   "cell_type": "markdown",
   "metadata": {},
   "source": [
    "### $X^2$-square test of independence using scipy.stats"
   ]
  },
  {
   "cell_type": "code",
   "execution_count": 76,
   "metadata": {
    "collapsed": true
   },
   "outputs": [],
   "source": [
    "# Same analysis with scipy.stats fxns\n",
    "observed_nomargin = pd.crosstab(bumpus.survived, bumpus.sex, margins=False)\n",
    "Chi2, Pval, Dof, Expected = stats.chi2_contingency(observed_nomargin.values, \n",
    "                                                   correction=False)"
   ]
  },
  {
   "cell_type": "code",
   "execution_count": 78,
   "metadata": {
    "collapsed": false
   },
   "outputs": [
    {
     "data": {
      "text/plain": [
       "(3.1264367816091938, 0.077031938117561066, 1)"
      ]
     },
     "execution_count": 78,
     "metadata": {},
     "output_type": "execute_result"
    }
   ],
   "source": [
    "Chi2, Pval, Dof"
   ]
  },
  {
   "cell_type": "code",
   "execution_count": null,
   "metadata": {
    "collapsed": true
   },
   "outputs": [],
   "source": []
  }
 ],
 "metadata": {
  "kernelspec": {
   "display_name": "Python 3",
   "language": "python",
   "name": "python3"
  },
  "language_info": {
   "codemirror_mode": {
    "name": "ipython",
    "version": 3
   },
   "file_extension": ".py",
   "mimetype": "text/x-python",
   "name": "python",
   "nbconvert_exporter": "python",
   "pygments_lexer": "ipython3",
   "version": "3.5.1"
  }
 },
 "nbformat": 4,
 "nbformat_minor": 0
}
